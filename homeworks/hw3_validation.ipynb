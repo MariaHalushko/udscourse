{
 "cells": [
  {
   "cell_type": "markdown",
   "metadata": {},
   "source": [
    "# Homework 3 \n",
    "\n",
    "You will have 2 datasets to work on. \n",
    "#### You have to answer questions in this [form](https://goo.gl/forms/5gfxvKZxpoydoeOB2) and provide your code\n",
    "\n",
    "### 1. Wikipedia Web Traffic Time Series\n",
    "\n",
    "Data from [Kaggle competition](https://www.kaggle.com/c/web-traffic-time-series-forecasting)* )\n",
    "\n",
    "*wikipedia_train3* - train data *wikipedia_test3* - test data created by us from original train data . For more information about dataset, please visit Homework1 assignment\n",
    "\n",
    "\n",
    "### 2. French dataset\n",
    "\n",
    " - Target variable is prime_tot_ttc – house of insurance price.<p>\n",
    " - The variables in the files are:<p>\n",
    " - code_postal: postal code of the insured property<p>\n",
    " - nb_pieces: number of rooms<p>\n",
    " - veranda: presence of a veranda<p>\n",
    " - biens_nomades: ceiling of coverage of goods (laptop, tablets, musical instruments ,…)<p>\n",
    " - sit_fam: family situation of the insured<p>\n",
    " - profession: profession of the insured<p>\n",
    " - nature_lri: nature of the insured property<p>\n",
    " - societe: company covering the risk<p>\n",
    " - cdomact: area of activity of the insured<p>\n",
    " - niv_urbanisation: level of urbanization in which is the insured property<p>\n",
    " - age_societaire: age of the member<p>\n",
    " - objets_precieux: presence of precious objects in the insured property<p>\n",
    " - pres_contrat_auto: holding a contract of auto insurance<p>\n",
    " - formule: guarantee formula<p>\n",
    " - sit_juridique: legal situation<p>\n",
    " - surf_habitat: area of insured property<p>\n",
    " - patrimoine_mob: amount of heritage insured furniture<p>\n",
    " - var1 - ... - var11: non-explicit variables<p>\n"
   ]
  },
  {
   "cell_type": "markdown",
   "metadata": {},
   "source": [
    "## Wikipedia page views (SMAPE metric)"
   ]
  },
  {
   "cell_type": "code",
   "execution_count": 3,
   "metadata": {},
   "outputs": [],
   "source": [
    "import pandas as pd\n",
    "import numpy as np\n",
    "import pandas_profiling as pp\n",
    "\n",
    "import matplotlib.pyplot as plt\n",
    "import seaborn as sns\n",
    "%matplotlib inline\n",
    "\n",
    "plt.style.use(\"fivethirtyeight\")\n",
    "plt.rcParams['figure.figsize'] = 12, 8"
   ]
  },
  {
   "cell_type": "code",
   "execution_count": 117,
   "metadata": {},
   "outputs": [],
   "source": [
    "### This is data from wikipedia3 archive in data folder\n",
    "\n",
    "train = pd.read_csv(\"../../data/wikipedia3/wikipedia_train3.csv\")\n",
    "test = pd.read_csv(\"../../data/wikipedia3/wikipedia_test3.csv\")"
   ]
  },
  {
   "cell_type": "markdown",
   "metadata": {},
   "source": [
    "**1.** Take a look carefuly at train and test dataset. Note for you what is the difference in them and how they are dependent. **For _only_ train** create a holdout validation using any type of split you think is useful here. What is the split type you are using? Answer in google forms\n",
    "\n",
    "**2.** Write a code to compare the score of your validation and test set. For scoring, use metric SMAPE (code is in lecture). For prediction use 15 previous days median. In the google form write your validation score."
   ]
  },
  {
   "cell_type": "code",
   "execution_count": 4,
   "metadata": {},
   "outputs": [],
   "source": [
    "profile = pp.ProfileReport(train)\n",
    "profile.to_file(outputfile=\"statistic_train.html\")"
   ]
  },
  {
   "cell_type": "code",
   "execution_count": 5,
   "metadata": {},
   "outputs": [],
   "source": [
    "profile = pp.ProfileReport(test)\n",
    "profile.to_file(outputfile=\"statistic_test.html\")"
   ]
  },
  {
   "cell_type": "code",
   "execution_count": 17,
   "metadata": {},
   "outputs": [
    {
     "data": {
      "text/html": [
       "<div>\n",
       "<style scoped>\n",
       "    .dataframe tbody tr th:only-of-type {\n",
       "        vertical-align: middle;\n",
       "    }\n",
       "\n",
       "    .dataframe tbody tr th {\n",
       "        vertical-align: top;\n",
       "    }\n",
       "\n",
       "    .dataframe thead th {\n",
       "        text-align: right;\n",
       "    }\n",
       "</style>\n",
       "<table border=\"1\" class=\"dataframe\">\n",
       "  <thead>\n",
       "    <tr style=\"text-align: right;\">\n",
       "      <th></th>\n",
       "      <th>Page</th>\n",
       "      <th>date</th>\n",
       "      <th>Visits</th>\n",
       "    </tr>\n",
       "  </thead>\n",
       "  <tbody>\n",
       "    <tr>\n",
       "      <th>0</th>\n",
       "      <td>Special:Search_zh.wikipedia.org_all-access_spider</td>\n",
       "      <td>2016-01-01</td>\n",
       "      <td>2660.0</td>\n",
       "    </tr>\n",
       "    <tr>\n",
       "      <th>1</th>\n",
       "      <td>Wikipedia:首页_zh.wikipedia.org_all-access_spider</td>\n",
       "      <td>2016-01-01</td>\n",
       "      <td>9936.0</td>\n",
       "    </tr>\n",
       "    <tr>\n",
       "      <th>2</th>\n",
       "      <td>Project:上传_zh.wikipedia.org_all-access_spider</td>\n",
       "      <td>2016-01-01</td>\n",
       "      <td>1712.0</td>\n",
       "    </tr>\n",
       "    <tr>\n",
       "      <th>3</th>\n",
       "      <td>Special:用户登录_zh.wikipedia.org_all-access_spider</td>\n",
       "      <td>2016-01-01</td>\n",
       "      <td>3175.0</td>\n",
       "    </tr>\n",
       "    <tr>\n",
       "      <th>4</th>\n",
       "      <td>Championnat_d'Europe_de_football_2016_fr.wikip...</td>\n",
       "      <td>2016-01-01</td>\n",
       "      <td>1682.0</td>\n",
       "    </tr>\n",
       "  </tbody>\n",
       "</table>\n",
       "</div>"
      ],
      "text/plain": [
       "                                                Page        date  Visits\n",
       "0  Special:Search_zh.wikipedia.org_all-access_spider  2016-01-01  2660.0\n",
       "1    Wikipedia:首页_zh.wikipedia.org_all-access_spider  2016-01-01  9936.0\n",
       "2      Project:上传_zh.wikipedia.org_all-access_spider  2016-01-01  1712.0\n",
       "3    Special:用户登录_zh.wikipedia.org_all-access_spider  2016-01-01  3175.0\n",
       "4  Championnat_d'Europe_de_football_2016_fr.wikip...  2016-01-01  1682.0"
      ]
     },
     "execution_count": 17,
     "metadata": {},
     "output_type": "execute_result"
    }
   ],
   "source": [
    "train.head()"
   ]
  },
  {
   "cell_type": "code",
   "execution_count": 21,
   "metadata": {},
   "outputs": [
    {
     "data": {
      "text/html": [
       "<div>\n",
       "<style scoped>\n",
       "    .dataframe tbody tr th:only-of-type {\n",
       "        vertical-align: middle;\n",
       "    }\n",
       "\n",
       "    .dataframe tbody tr th {\n",
       "        vertical-align: top;\n",
       "    }\n",
       "\n",
       "    .dataframe thead th {\n",
       "        text-align: right;\n",
       "    }\n",
       "</style>\n",
       "<table border=\"1\" class=\"dataframe\">\n",
       "  <thead>\n",
       "    <tr style=\"text-align: right;\">\n",
       "      <th></th>\n",
       "      <th>Page</th>\n",
       "      <th>date</th>\n",
       "      <th>Visits</th>\n",
       "    </tr>\n",
       "  </thead>\n",
       "  <tbody>\n",
       "    <tr>\n",
       "      <th>0</th>\n",
       "      <td>Special:Search_zh.wikipedia.org_all-access_spider</td>\n",
       "      <td>2016-09-10</td>\n",
       "      <td>640.0</td>\n",
       "    </tr>\n",
       "    <tr>\n",
       "      <th>1</th>\n",
       "      <td>Wikipedia:首页_zh.wikipedia.org_all-access_spider</td>\n",
       "      <td>2016-09-10</td>\n",
       "      <td>5609.0</td>\n",
       "    </tr>\n",
       "    <tr>\n",
       "      <th>2</th>\n",
       "      <td>Project:上传_zh.wikipedia.org_all-access_spider</td>\n",
       "      <td>2016-09-10</td>\n",
       "      <td>3121.0</td>\n",
       "    </tr>\n",
       "    <tr>\n",
       "      <th>3</th>\n",
       "      <td>Special:用户登录_zh.wikipedia.org_all-access_spider</td>\n",
       "      <td>2016-09-10</td>\n",
       "      <td>362.0</td>\n",
       "    </tr>\n",
       "    <tr>\n",
       "      <th>4</th>\n",
       "      <td>Championnat_d'Europe_de_football_2016_fr.wikip...</td>\n",
       "      <td>2016-09-10</td>\n",
       "      <td>533.0</td>\n",
       "    </tr>\n",
       "  </tbody>\n",
       "</table>\n",
       "</div>"
      ],
      "text/plain": [
       "                                                Page        date  Visits\n",
       "0  Special:Search_zh.wikipedia.org_all-access_spider  2016-09-10   640.0\n",
       "1    Wikipedia:首页_zh.wikipedia.org_all-access_spider  2016-09-10  5609.0\n",
       "2      Project:上传_zh.wikipedia.org_all-access_spider  2016-09-10  3121.0\n",
       "3    Special:用户登录_zh.wikipedia.org_all-access_spider  2016-09-10   362.0\n",
       "4  Championnat_d'Europe_de_football_2016_fr.wikip...  2016-09-10   533.0"
      ]
     },
     "execution_count": 21,
     "metadata": {},
     "output_type": "execute_result"
    }
   ],
   "source": [
    "test.head()"
   ]
  },
  {
   "cell_type": "code",
   "execution_count": 22,
   "metadata": {},
   "outputs": [],
   "source": [
    "import re\n",
    "def get_language(page):\n",
    "    res = re.search('[a-z][a-z].wikipedia.org',page)\n",
    "    if res:\n",
    "        return res.group(0)[0:2]\n",
    "    return 'na'\n"
   ]
  },
  {
   "cell_type": "code",
   "execution_count": 118,
   "metadata": {},
   "outputs": [],
   "source": [
    "train['lang'] = train.Page.map(get_language)\n",
    "test['lang'] = test.Page.map(get_language)"
   ]
  },
  {
   "cell_type": "code",
   "execution_count": 24,
   "metadata": {},
   "outputs": [],
   "source": [
    "def lookup(s):\n",
    "    \"\"\"\n",
    "    This is an extremely fast approach to datetime parsing.\n",
    "    For large data, the same dates are often repeated. Rather than\n",
    "    re-parse these, we store all unique dates, parse them, and\n",
    "    use a lookup to convert all dates.\n",
    "    \"\"\"\n",
    "    dates = {date:pd.to_datetime(date) for date in s.unique()}\n",
    "    return s.map(dates)"
   ]
  },
  {
   "cell_type": "code",
   "execution_count": 119,
   "metadata": {},
   "outputs": [],
   "source": [
    "train['date'] = lookup(train['date']) \n",
    "test['date'] = lookup(test['date']) "
   ]
  },
  {
   "cell_type": "code",
   "execution_count": 11,
   "metadata": {},
   "outputs": [
    {
     "data": {
      "text/plain": [
       "(Timestamp('2016-01-01 00:00:00'), Timestamp('2016-08-31 00:00:00'))"
      ]
     },
     "execution_count": 11,
     "metadata": {},
     "output_type": "execute_result"
    }
   ],
   "source": [
    "train.date.min(), train.date.max()"
   ]
  },
  {
   "cell_type": "code",
   "execution_count": 42,
   "metadata": {},
   "outputs": [
    {
     "data": {
      "text/plain": [
       "(Timestamp('2016-09-10 00:00:00'), Timestamp('2016-11-10 00:00:00'))"
      ]
     },
     "execution_count": 42,
     "metadata": {},
     "output_type": "execute_result"
    }
   ],
   "source": [
    "test.date.min(), test.date.max()"
   ]
  },
  {
   "cell_type": "code",
   "execution_count": 26,
   "metadata": {
    "scrolled": false
   },
   "outputs": [],
   "source": [
    "def get_date_features(df):\n",
    "    df['Month']     = df[\"date\"].dt.month\n",
    "    df['Day']       = df[\"date\"].dt.day\n",
    "    df['DayOfWeek'] = df[\"date\"].dt.dayofweek\n",
    "    return df\n",
    "\n",
    "train = get_date_features(train)\n",
    "test = get_date_features(test) \n"
   ]
  },
  {
   "cell_type": "code",
   "execution_count": 32,
   "metadata": {},
   "outputs": [
    {
     "data": {
      "text/plain": [
       "(8, 3)"
      ]
     },
     "execution_count": 32,
     "metadata": {},
     "output_type": "execute_result"
    }
   ],
   "source": [
    "train.Month.unique().size, test.Month.unique().size"
   ]
  },
  {
   "cell_type": "code",
   "execution_count": 58,
   "metadata": {},
   "outputs": [],
   "source": [
    "holdout = train[train.date > (train.date.max() - pd.DateOffset(months=3))]\n",
    "new_train = train[train.date <= (train.date.max() - pd.DateOffset(months=3))]"
   ]
  },
  {
   "cell_type": "code",
   "execution_count": 64,
   "metadata": {},
   "outputs": [
    {
     "data": {
      "text/plain": [
       "(3392.0, 3102.0, 3578.0, 2977.0)"
      ]
     },
     "execution_count": 64,
     "metadata": {},
     "output_type": "execute_result"
    }
   ],
   "source": [
    "train.Visits.median(), holdout.Visits.median(), new_train.Visits.median(), test.Visits.median()"
   ]
  },
  {
   "cell_type": "code",
   "execution_count": 50,
   "metadata": {},
   "outputs": [],
   "source": []
  },
  {
   "cell_type": "code",
   "execution_count": 56,
   "metadata": {},
   "outputs": [
    {
     "data": {
      "text/plain": [
       "<matplotlib.axes._subplots.AxesSubplot at 0x7f6fe2b9fdd8>"
      ]
     },
     "execution_count": 56,
     "metadata": {},
     "output_type": "execute_result"
    },
    {
     "data": {
      "image/png": "[encoded data removed]",
      "text/plain": [
       "<matplotlib.figure.Figure at 0x7f6fe2ac0438>"
      ]
     },
     "metadata": {},
     "output_type": "display_data"
    }
   ],
   "source": [
    "sns.countplot(test.lang)"
   ]
  },
  {
   "cell_type": "code",
   "execution_count": 61,
   "metadata": {},
   "outputs": [
    {
     "data": {
      "text/plain": [
       "<matplotlib.axes._subplots.AxesSubplot at 0x7f6fe2d72c50>"
      ]
     },
     "execution_count": 61,
     "metadata": {},
     "output_type": "execute_result"
    },
    {
     "data": {
      "image/png": "[encoded data removed]",
      "text/plain": [
       "<matplotlib.figure.Figure at 0x7f6fe2c5a4e0>"
      ]
     },
     "metadata": {},
     "output_type": "display_data"
    }
   ],
   "source": [
    "sns.countplot(new_train.lang)"
   ]
  },
  {
   "cell_type": "code",
   "execution_count": 62,
   "metadata": {},
   "outputs": [
    {
     "data": {
      "text/plain": [
       "<matplotlib.axes._subplots.AxesSubplot at 0x7f6fe2bc76d8>"
      ]
     },
     "execution_count": 62,
     "metadata": {},
     "output_type": "execute_result"
    },
    {
     "data": {
      "image/png": "[encoded data removed]",
      "text/plain": [
       "<matplotlib.figure.Figure at 0x7f6fe3247470>"
      ]
     },
     "metadata": {},
     "output_type": "display_data"
    }
   ],
   "source": [
    "sns.countplot(holdout.lang)"
   ]
  },
  {
   "cell_type": "code",
   "execution_count": 131,
   "metadata": {},
   "outputs": [],
   "source": [
    "from dateutil.relativedelta import relativedelta\n",
    "def median_last_n_days(train, validation, n_days=15):\n",
    "    last_day = train['date'].max()\n",
    "    train = train.loc[train['date'] > (last_day - relativedelta(days=n_days))].copy()\n",
    "    median_pred = train.groupby(['Page']).median().reset_index()\n",
    "    median_pred.rename(columns={\"Visits\": \"pred_Visits\"}, inplace=True)\n",
    "    \n",
    "    return validation.merge(median_pred, on=\"Page\", how='left')\n",
    "\n",
    "def pandas_smape(df):\n",
    "    df.fillna(0, inplace=True)\n",
    "    df[\"SMAPE\"] = 200 * np.abs(df[\"Visits\"] - df[\"pred_Visits\"]) / (df[\"Visits\"] + df[\"pred_Visits\"])\n",
    "    df[\"SMAPE\"].fillna(0, inplace=True)\n",
    "    return np.mean(df[\"SMAPE\"])"
   ]
  },
  {
   "cell_type": "code",
   "execution_count": 73,
   "metadata": {},
   "outputs": [
    {
     "data": {
      "text/plain": [
       "46.13493660921823"
      ]
     },
     "execution_count": 73,
     "metadata": {},
     "output_type": "execute_result"
    }
   ],
   "source": [
    "pandas_smape(median_last_n_days(new_train, holdout))"
   ]
  },
  {
   "cell_type": "code",
   "execution_count": 74,
   "metadata": {},
   "outputs": [
    {
     "data": {
      "text/plain": [
       "50.35649862558084"
      ]
     },
     "execution_count": 74,
     "metadata": {},
     "output_type": "execute_result"
    }
   ],
   "source": [
    "pandas_smape(median_last_n_days(new_train, test))"
   ]
  },
  {
   "cell_type": "code",
   "execution_count": null,
   "metadata": {},
   "outputs": [],
   "source": []
  },
  {
   "cell_type": "markdown",
   "metadata": {
    "collapsed": true
   },
   "source": [
    "**3.** Perform K-fold validation using your type of split. Run GridSearch with any classificator you like and set of parameters to optimize, providing it with your custom validation.  Compare the score of your validation and test set. For scoring, again, use metrics SMAPE. In the google form write your scores on validation and test sets"
   ]
  },
  {
   "cell_type": "code",
   "execution_count": 126,
   "metadata": {},
   "outputs": [],
   "source": [
    "def create_validation(df, start_date):\n",
    "    return df.loc[(df['date'] >= pd.to_datetime(start_date) - relativedelta(days=0)) & \\\n",
    "                  (df['date'] <  pd.to_datetime(start_date) + relativedelta(months=3))].index, \\\n",
    "           df.loc[(df['date'] >= pd.to_datetime(start_date) + relativedelta(months=3)) & \\\n",
    "                  (df['date'] <  pd.to_datetime(start_date) + relativedelta(months=5))].index\n",
    "    \n",
    "train_dates = ['2016-01-01', '2016-02-01', '2016-03-01', '2016-04-01', '2016-05-01']"
   ]
  },
  {
   "cell_type": "code",
   "execution_count": 127,
   "metadata": {},
   "outputs": [],
   "source": [
    "myCViterator = []\n",
    "for i in train_dates:\n",
    "    trainIndices, valIndices = create_validation(train, i)\n",
    "    myCViterator.append( (trainIndices, valIndices) )"
   ]
  },
  {
   "cell_type": "code",
   "execution_count": 128,
   "metadata": {
    "scrolled": true
   },
   "outputs": [
    {
     "name": "stdout",
     "output_type": "stream",
     "text": [
      "0 1075165\n",
      "366265 1429615\n",
      "708900 1795880\n",
      "1075165 2150330\n",
      "1429615 2516595\n"
     ]
    }
   ],
   "source": [
    "for x,y in myCViterator:\n",
    "    print (min(x), min(y))"
   ]
  },
  {
   "cell_type": "code",
   "execution_count": 130,
   "metadata": {},
   "outputs": [
    {
     "data": {
      "text/plain": [
       "([41.461029722192855,\n",
       "  39.352658930775114,\n",
       "  42.99083903077996,\n",
       "  41.016810453820206,\n",
       "  33.35887754746252],\n",
       " 39.636043137006126)"
      ]
     },
     "execution_count": 130,
     "metadata": {},
     "output_type": "execute_result"
    }
   ],
   "source": [
    "scores = []\n",
    "for train_indexes, val_indexes in myCViterator:\n",
    "    validation_pred = median_last_15_days(train.iloc[train_indexes].copy(), \n",
    "                                           train.iloc[val_indexes].copy())\n",
    "    score = pandas_smape(validation_pred)\n",
    "    scores.append(score)\n",
    "    \n",
    "scores, np.mean(scores)"
   ]
  },
  {
   "cell_type": "code",
   "execution_count": 136,
   "metadata": {},
   "outputs": [
    {
     "data": {
      "text/plain": [
       "{7: 39.16048152443817,\n",
       " 14: 39.56268141160986,\n",
       " 15: 39.636043137006126,\n",
       " 20: 39.87943868041115,\n",
       " 25: 40.22069571653397,\n",
       " 30: 40.660659426005864}"
      ]
     },
     "execution_count": 136,
     "metadata": {},
     "output_type": "execute_result"
    }
   ],
   "source": [
    "params_score = {}\n",
    "for n in [7, 14, 15, 20, 25, 30]:\n",
    "    score_n_days = []\n",
    "    for train_indexes, val_indexes in myCViterator:\n",
    "        validation_pred = median_last_n_days(train.iloc[train_indexes].copy(), \n",
    "                                               train.iloc[val_indexes].copy(), n)\n",
    "        score = pandas_smape(validation_pred)\n",
    "        score_n_days.append(score)\n",
    "    params_score[n] = np.mean(score_n_days)\n",
    "    \n",
    "params_score"
   ]
  },
  {
   "cell_type": "code",
   "execution_count": 99,
   "metadata": {},
   "outputs": [
    {
     "data": {
      "text/plain": [
       "40.007012702044406"
      ]
     },
     "execution_count": 99,
     "metadata": {},
     "output_type": "execute_result"
    }
   ],
   "source": [
    "pandas_smape(median_last_15_days(train, test))"
   ]
  },
  {
   "cell_type": "markdown",
   "metadata": {
    "collapsed": true
   },
   "source": [
    "## French house insurance prediction (MAPE metric)"
   ]
  },
  {
   "cell_type": "markdown",
   "metadata": {},
   "source": [
    "**1.** Take a look carefuly at train and test dataset. Note for you what is the difference in them and how they are dependent. You may use any tool you like, any EDA you want. Decribe your validation and reason for your choice in google form.\n",
    "\n",
    "**2.** \n",
    "+ Implement your validation. \n",
    "+ Generate additional features. \n",
    "+ Build a model you like/you can. \n",
    "+ Wait for training your model. If it takes too much time, listen to https://www.youtube.com/watch?v=XWkGL4eZR3E\n",
    "+ Submit your scores on validation and test to google form. Use MAPE metric for scoring. \n",
    "+ Ланфрен ланфра лантатита"
   ]
  },
  {
   "cell_type": "code",
   "execution_count": 137,
   "metadata": {},
   "outputs": [],
   "source": [
    "train = pd.read_csv('../../data/train_french.csv')\n",
    "test = pd.read_csv('../../data/test_french.csv')"
   ]
  },
  {
   "cell_type": "code",
   "execution_count": 149,
   "metadata": {
    "scrolled": true
   },
   "outputs": [
    {
     "name": "stdout",
     "output_type": "stream",
     "text": [
      "<class 'pandas.core.frame.DataFrame'>\n",
      "RangeIndex: 200000 entries, 0 to 199999\n",
      "Data columns (total 29 columns):\n",
      "code_postal          200000 non-null int64\n",
      "nb_pieces            200000 non-null int64\n",
      "veranda              200000 non-null object\n",
      "biens_nomades        200000 non-null int64\n",
      "sit_fam              200000 non-null object\n",
      "profession           200000 non-null object\n",
      "nature_lri           200000 non-null object\n",
      "societe              200000 non-null int64\n",
      "domaine_activite     200000 non-null int64\n",
      "niv_urbanisation     200000 non-null object\n",
      "age_societaire       200000 non-null int64\n",
      "objets_precieux      200000 non-null int64\n",
      "pres_contrat_auto    200000 non-null int64\n",
      "formule              200000 non-null int64\n",
      "sit_juridique        200000 non-null int64\n",
      "surf_habitat         200000 non-null int64\n",
      "patrimoine_mob       200000 non-null int64\n",
      "var1                 200000 non-null int64\n",
      "var2                 200000 non-null int64\n",
      "var3                 200000 non-null int64\n",
      "var4                 200000 non-null int64\n",
      "var5                 200000 non-null int64\n",
      "var6                 200000 non-null int64\n",
      "var7                 200000 non-null int64\n",
      "var8                 200000 non-null int64\n",
      "var9                 200000 non-null object\n",
      "var10                200000 non-null int64\n",
      "var11                200000 non-null int64\n",
      "prime_tot_ttc        200000 non-null float64\n",
      "dtypes: float64(1), int64(22), object(6)\n",
      "memory usage: 44.3+ MB\n"
     ]
    }
   ],
   "source": [
    "train.info()"
   ]
  },
  {
   "cell_type": "code",
   "execution_count": 110,
   "metadata": {},
   "outputs": [
    {
     "data": {
      "text/html": [
       "<div>\n",
       "<style scoped>\n",
       "    .dataframe tbody tr th:only-of-type {\n",
       "        vertical-align: middle;\n",
       "    }\n",
       "\n",
       "    .dataframe tbody tr th {\n",
       "        vertical-align: top;\n",
       "    }\n",
       "\n",
       "    .dataframe thead th {\n",
       "        text-align: right;\n",
       "    }\n",
       "</style>\n",
       "<table border=\"1\" class=\"dataframe\">\n",
       "  <thead>\n",
       "    <tr style=\"text-align: right;\">\n",
       "      <th></th>\n",
       "      <th>code_postal</th>\n",
       "      <th>nb_pieces</th>\n",
       "      <th>veranda</th>\n",
       "      <th>biens_nomades</th>\n",
       "      <th>sit_fam</th>\n",
       "      <th>profession</th>\n",
       "      <th>nature_lri</th>\n",
       "      <th>societe</th>\n",
       "      <th>domaine_activite</th>\n",
       "      <th>niv_urbanisation</th>\n",
       "      <th>...</th>\n",
       "      <th>var3</th>\n",
       "      <th>var4</th>\n",
       "      <th>var5</th>\n",
       "      <th>var6</th>\n",
       "      <th>var7</th>\n",
       "      <th>var8</th>\n",
       "      <th>var9</th>\n",
       "      <th>var10</th>\n",
       "      <th>var11</th>\n",
       "      <th>prime_tot_ttc</th>\n",
       "    </tr>\n",
       "  </thead>\n",
       "  <tbody>\n",
       "    <tr>\n",
       "      <th>0</th>\n",
       "      <td>6029</td>\n",
       "      <td>5</td>\n",
       "      <td>OUI</td>\n",
       "      <td>500</td>\n",
       "      <td>Famille</td>\n",
       "      <td>agent; employe</td>\n",
       "      <td>Maison</td>\n",
       "      <td>1</td>\n",
       "      <td>7</td>\n",
       "      <td>C</td>\n",
       "      <td>...</td>\n",
       "      <td>0</td>\n",
       "      <td>164</td>\n",
       "      <td>41</td>\n",
       "      <td>0</td>\n",
       "      <td>0</td>\n",
       "      <td>1</td>\n",
       "      <td>NON</td>\n",
       "      <td>30</td>\n",
       "      <td>1</td>\n",
       "      <td>107.94</td>\n",
       "    </tr>\n",
       "    <tr>\n",
       "      <th>1</th>\n",
       "      <td>62128</td>\n",
       "      <td>2</td>\n",
       "      <td>NON</td>\n",
       "      <td>0</td>\n",
       "      <td>Famille</td>\n",
       "      <td>enseignant; formateur; chercheur</td>\n",
       "      <td>Appartement</td>\n",
       "      <td>1</td>\n",
       "      <td>1</td>\n",
       "      <td>D</td>\n",
       "      <td>...</td>\n",
       "      <td>1</td>\n",
       "      <td>85</td>\n",
       "      <td>100</td>\n",
       "      <td>0</td>\n",
       "      <td>0</td>\n",
       "      <td>1</td>\n",
       "      <td>NON</td>\n",
       "      <td>30</td>\n",
       "      <td>2</td>\n",
       "      <td>80.41</td>\n",
       "    </tr>\n",
       "    <tr>\n",
       "      <th>2</th>\n",
       "      <td>81065</td>\n",
       "      <td>4</td>\n",
       "      <td>NON</td>\n",
       "      <td>1000</td>\n",
       "      <td>Indivividu</td>\n",
       "      <td>homme ou femme au foyer</td>\n",
       "      <td>Sans information</td>\n",
       "      <td>2</td>\n",
       "      <td>99</td>\n",
       "      <td>~</td>\n",
       "      <td>...</td>\n",
       "      <td>0</td>\n",
       "      <td>94</td>\n",
       "      <td>100</td>\n",
       "      <td>0</td>\n",
       "      <td>0</td>\n",
       "      <td>1</td>\n",
       "      <td>NON</td>\n",
       "      <td>30</td>\n",
       "      <td>2</td>\n",
       "      <td>142.12</td>\n",
       "    </tr>\n",
       "    <tr>\n",
       "      <th>3</th>\n",
       "      <td>5023</td>\n",
       "      <td>3</td>\n",
       "      <td>NON</td>\n",
       "      <td>500</td>\n",
       "      <td>Indivividu</td>\n",
       "      <td>agent; employe</td>\n",
       "      <td>Maison</td>\n",
       "      <td>2</td>\n",
       "      <td>38</td>\n",
       "      <td>C</td>\n",
       "      <td>...</td>\n",
       "      <td>0</td>\n",
       "      <td>101</td>\n",
       "      <td>100</td>\n",
       "      <td>0</td>\n",
       "      <td>0</td>\n",
       "      <td>5</td>\n",
       "      <td>NON</td>\n",
       "      <td>30</td>\n",
       "      <td>2</td>\n",
       "      <td>76.55</td>\n",
       "    </tr>\n",
       "    <tr>\n",
       "      <th>4</th>\n",
       "      <td>62178</td>\n",
       "      <td>2</td>\n",
       "      <td>NON</td>\n",
       "      <td>500</td>\n",
       "      <td>Famille</td>\n",
       "      <td>enseignant; formateur; chercheur</td>\n",
       "      <td>Appartement</td>\n",
       "      <td>1</td>\n",
       "      <td>1</td>\n",
       "      <td>~</td>\n",
       "      <td>...</td>\n",
       "      <td>1</td>\n",
       "      <td>125</td>\n",
       "      <td>100</td>\n",
       "      <td>1</td>\n",
       "      <td>0</td>\n",
       "      <td>1</td>\n",
       "      <td>NON</td>\n",
       "      <td>0</td>\n",
       "      <td>2</td>\n",
       "      <td>150.45</td>\n",
       "    </tr>\n",
       "  </tbody>\n",
       "</table>\n",
       "<p>5 rows × 29 columns</p>\n",
       "</div>"
      ],
      "text/plain": [
       "   code_postal  nb_pieces veranda  biens_nomades     sit_fam  \\\n",
       "0         6029          5     OUI            500     Famille   \n",
       "1        62128          2     NON              0     Famille   \n",
       "2        81065          4     NON           1000  Indivividu   \n",
       "3         5023          3     NON            500  Indivividu   \n",
       "4        62178          2     NON            500     Famille   \n",
       "\n",
       "                         profession        nature_lri  societe  \\\n",
       "0                    agent; employe            Maison        1   \n",
       "1  enseignant; formateur; chercheur       Appartement        1   \n",
       "2           homme ou femme au foyer  Sans information        2   \n",
       "3                    agent; employe            Maison        2   \n",
       "4  enseignant; formateur; chercheur       Appartement        1   \n",
       "\n",
       "   domaine_activite niv_urbanisation      ...        var3  var4  var5  var6  \\\n",
       "0                 7                C      ...           0   164    41     0   \n",
       "1                 1                D      ...           1    85   100     0   \n",
       "2                99                ~      ...           0    94   100     0   \n",
       "3                38                C      ...           0   101   100     0   \n",
       "4                 1                ~      ...           1   125   100     1   \n",
       "\n",
       "   var7  var8  var9  var10  var11  prime_tot_ttc  \n",
       "0     0     1   NON     30      1         107.94  \n",
       "1     0     1   NON     30      2          80.41  \n",
       "2     0     1   NON     30      2         142.12  \n",
       "3     0     5   NON     30      2          76.55  \n",
       "4     0     1   NON      0      2         150.45  \n",
       "\n",
       "[5 rows x 29 columns]"
      ]
     },
     "execution_count": 110,
     "metadata": {},
     "output_type": "execute_result"
    }
   ],
   "source": [
    "test.head()"
   ]
  },
  {
   "cell_type": "code",
   "execution_count": 139,
   "metadata": {},
   "outputs": [],
   "source": [
    "profile = pp.ProfileReport(train)\n",
    "profile.to_file(outputfile=\"statistic_train_french.html\")"
   ]
  },
  {
   "cell_type": "code",
   "execution_count": 140,
   "metadata": {},
   "outputs": [],
   "source": [
    "profile = pp.ProfileReport(test)\n",
    "profile.to_file(outputfile=\"statistic_test_french.html\")"
   ]
  },
  {
   "cell_type": "code",
   "execution_count": 141,
   "metadata": {},
   "outputs": [],
   "source": [
    "def mape_score(y_true, y_pred):\n",
    "    return np.sum(100. / y_true.shape[0] * np.abs((y_true - y_pred) / y_true))"
   ]
  },
  {
   "cell_type": "code",
   "execution_count": 142,
   "metadata": {},
   "outputs": [],
   "source": [
    "from sklearn.model_selection import train_test_split\n",
    "\n",
    "x_train, x_val, y_train, y_val = train_test_split(train.drop('prime_tot_ttc', axis=1), \n",
    "                                                   train['prime_tot_ttc'],\n",
    "                                                   test_size=0.15, \n",
    "                                                   random_state=42)"
   ]
  },
  {
   "cell_type": "code",
   "execution_count": null,
   "metadata": {},
   "outputs": [],
   "source": []
  },
  {
   "cell_type": "code",
   "execution_count": 146,
   "metadata": {},
   "outputs": [],
   "source": [
    "import lightgbm as lgb"
   ]
  },
  {
   "cell_type": "code",
   "execution_count": 150,
   "metadata": {
    "scrolled": true
   },
   "outputs": [],
   "source": [
    "lgb_train = lgb.Dataset(x_train, y_train)\n",
    "lgb_eval = lgb.Dataset(x_val, y_val, reference=lgb_train)\n",
    "\n",
    "# specify your configurations as a dict\n",
    "params = {\n",
    "    'task': 'train',\n",
    "    'boosting_type': 'gbdt',\n",
    "    'objective': 'regression',\n",
    "    'metric': {'l2', 'auc'},\n",
    "    'num_leaves': 31,\n",
    "    'learning_rate': 0.05,\n",
    "    'feature_fraction': 0.9,\n",
    "    'bagging_fraction': 0.8,\n",
    "    'bagging_freq': 5,\n",
    "    'verbose': 0\n",
    "}\n",
    "\n",
    "print('Start training...')\n",
    "# train\n",
    "gbm = lgb.train(params,\n",
    "                lgb_train,\n",
    "                num_boost_round=20,\n",
    "                valid_sets=lgb_eval,\n",
    "                early_stopping_rounds=5)"
   ]
  },
  {
   "cell_type": "code",
   "execution_count": null,
   "metadata": {},
   "outputs": [],
   "source": [
    "y_val_pred = model.predict(x_val)\n",
    "y_test_pred = model.predict(test.drop('prime_tot_ttc', axis=1))"
   ]
  },
  {
   "cell_type": "code",
   "execution_count": null,
   "metadata": {},
   "outputs": [],
   "source": [
    "mape_score(np.array(y_val), y_val_pred), mape_score(np.array(test['prime_tot_ttc']), y_test_pred)"
   ]
  }
 ],
 "metadata": {
  "kernelspec": {
   "display_name": "Python [default]",
   "language": "python",
   "name": "python3"
  },
  "language_info": {
   "codemirror_mode": {
    "name": "ipython",
    "version": 3
   },
   "file_extension": ".py",
   "mimetype": "text/x-python",
   "name": "python",
   "nbconvert_exporter": "python",
   "pygments_lexer": "ipython3",
   "version": "3.6.4"
  }
 },
 "nbformat": 4,
 "nbformat_minor": 2
}
