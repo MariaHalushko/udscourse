{
 "cells": [
  {
   "cell_type": "code",
   "execution_count": 1,
   "metadata": {},
   "outputs": [],
   "source": [
    "import pandas as pd\n",
    "import numpy as np\n",
    "np.random.seed(10)\n",
    "import pandas_profiling as pp\n",
    "\n",
    "import matplotlib.pyplot as plt\n",
    "import seaborn as sns\n",
    "%matplotlib inline\n",
    "\n",
    "import warnings\n",
    "warnings.simplefilter('ignore')\n",
    "\n",
    "from sklearn.preprocessing import label_binarize\n",
    "from sklearn.preprocessing import StandardScaler\n",
    "from sklearn.model_selection import GridSearchCV\n",
    "\n",
    "from sklearn.ensemble import (RandomTreesEmbedding, RandomForestClassifier,\n",
    "                              GradientBoostingClassifier)\n",
    "from sklearn.preprocessing import OneHotEncoder\n",
    "from sklearn.linear_model import LogisticRegression\n",
    "from sklearn.tree import DecisionTreeClassifier\n",
    "import lightgbm as lgb\n",
    "from sklearn import svm\n",
    "\n",
    "from sklearn.model_selection import (\n",
    "    train_test_split, StratifiedKFold, cross_val_score, GridSearchCV\n",
    ")\n",
    "from sklearn.metrics import roc_auc_score\n",
    "from sklearn.utils import class_weight\n",
    "\n",
    "from os import cpu_count\n",
    "\n",
    "from sklearn.metrics import roc_curve\n",
    "from sklearn.pipeline import make_pipeline\n",
    "\n",
    "plt.style.use(\"fivethirtyeight\")\n",
    "plt.rcParams['figure.figsize'] = 12, 8\n",
    "\n",
    "pd.options.display.width = 500\n",
    "n_jobs = max(cpu_count()-1, 1)"
   ]
  },
  {
   "cell_type": "code",
   "execution_count": 628,
   "metadata": {},
   "outputs": [],
   "source": [
    "train = pd.read_csv(\"../../data/modulbank/train.csv\", sep='\\t')\n",
    "test = pd.read_csv(\"../../data/modulbank/test.csv\", sep='\\t')"
   ]
  },
  {
   "cell_type": "code",
   "execution_count": 10,
   "metadata": {},
   "outputs": [],
   "source": [
    "profile = pp.ProfileReport(train)\n",
    "profile.to_file(outputfile=\"statistic_train.html\")"
   ]
  },
  {
   "cell_type": "code",
   "execution_count": 11,
   "metadata": {},
   "outputs": [],
   "source": [
    "profile = pp.ProfileReport(test)\n",
    "profile.to_file(outputfile=\"statistic_test.html\")"
   ]
  },
  {
   "cell_type": "code",
   "execution_count": 324,
   "metadata": {
    "scrolled": true
   },
   "outputs": [
    {
     "name": "stdout",
     "output_type": "stream",
     "text": [
      "<class 'pandas.core.frame.DataFrame'>\n",
      "RangeIndex: 30500 entries, 0 to 30499\n",
      "Columns: 346 entries, 0 to 345\n",
      "dtypes: float64(106), int64(240)\n",
      "memory usage: 80.5 MB\n"
     ]
    }
   ],
   "source": [
    "train.info()"
   ]
  },
  {
   "cell_type": "code",
   "execution_count": 323,
   "metadata": {},
   "outputs": [
    {
     "name": "stdout",
     "output_type": "stream",
     "text": [
      "<class 'pandas.core.frame.DataFrame'>\n",
      "RangeIndex: 4166 entries, 0 to 4165\n",
      "Columns: 347 entries, _ID_ to 345\n",
      "dtypes: float64(107), int64(240)\n",
      "memory usage: 11.0 MB\n"
     ]
    }
   ],
   "source": [
    "test.info()"
   ]
  },
  {
   "cell_type": "code",
   "execution_count": 629,
   "metadata": {},
   "outputs": [],
   "source": [
    "train.drop('Unnamed: 0', axis=1, inplace=True)\n",
    "test.rename({'Unnamed: 0':'_ID_'}, axis=1, inplace=True)\n"
   ]
  },
  {
   "cell_type": "markdown",
   "metadata": {},
   "source": [
    "### Split data"
   ]
  },
  {
   "cell_type": "code",
   "execution_count": 227,
   "metadata": {},
   "outputs": [],
   "source": [
    "X = train.drop('0', axis=1)\n",
    "y = train['0']\n",
    "\n",
    "X_train, X_val, y_train, y_val = train_test_split(X, y,\n",
    "                                                  test_size=0.2, \n",
    "                                                  random_state=42,\n",
    "                                                  stratify=y)"
   ]
  },
  {
   "cell_type": "markdown",
   "metadata": {},
   "source": [
    "### Baseline on Logregression"
   ]
  },
  {
   "cell_type": "code",
   "execution_count": 8,
   "metadata": {},
   "outputs": [],
   "source": [
    "X = train.drop('0', axis=1)\n",
    "y = train['0']"
   ]
  },
  {
   "cell_type": "code",
   "execution_count": 10,
   "metadata": {
    "scrolled": true
   },
   "outputs": [
    {
     "data": {
      "text/plain": [
       "0    0.822197\n",
       "1    0.177803\n",
       "Name: 0, dtype: float64"
      ]
     },
     "execution_count": 10,
     "metadata": {},
     "output_type": "execute_result"
    }
   ],
   "source": [
    "y.value_counts(normalize=True)"
   ]
  },
  {
   "cell_type": "code",
   "execution_count": 49,
   "metadata": {},
   "outputs": [
    {
     "data": {
      "text/plain": [
       "0.664266647063418"
      ]
     },
     "execution_count": 49,
     "metadata": {},
     "output_type": "execute_result"
    }
   ],
   "source": [
    "lr = LogisticRegression(tol=0.9, \n",
    "                        C=100, \n",
    "                        random_state=42,\n",
    "                        solver='newton-cg', \n",
    "                        class_weight='balanced')\n",
    "lr.fit(X_train,  y_train)\n",
    "roc_auc_score(y_val, lr.predict(X_val))"
   ]
  },
  {
   "cell_type": "markdown",
   "metadata": {},
   "source": [
    "### Baseline Random Forest"
   ]
  },
  {
   "cell_type": "code",
   "execution_count": 48,
   "metadata": {},
   "outputs": [
    {
     "data": {
      "text/plain": [
       "0.6364886906101971"
      ]
     },
     "execution_count": 48,
     "metadata": {},
     "output_type": "execute_result"
    }
   ],
   "source": [
    "from sklearn.ensemble import RandomForestClassifier\n",
    "\n",
    "rf = RandomForestClassifier(n_estimators=200, \n",
    "                            random_state=42,\n",
    "                            min_samples_leaf=7,\n",
    "                            min_samples_split=10, \n",
    "                            class_weight='balanced')\n",
    "rf.fit(X_train,  y_train)\n",
    "roc_auc_score(y_val, rf.predict(X_val))"
   ]
  },
  {
   "cell_type": "markdown",
   "metadata": {},
   "source": [
    "### Baseline on LGBm"
   ]
  },
  {
   "cell_type": "code",
   "execution_count": 619,
   "metadata": {},
   "outputs": [
    {
     "data": {
      "text/plain": [
       "{0: 2.8113085322968723, 1: 0.6081638372837924}"
      ]
     },
     "execution_count": 619,
     "metadata": {},
     "output_type": "execute_result"
    }
   ],
   "source": [
    "lable_weights = class_weight.compute_class_weight('balanced', train['0'].unique(), \n",
    "                                                  train['0'].values)\n",
    "lable_weights = dict(zip([0,1],lable_weights))\n",
    "lable_weights"
   ]
  },
  {
   "cell_type": "code",
   "execution_count": 225,
   "metadata": {},
   "outputs": [],
   "source": [
    "train['weights'] = train['0'].map(lable_weights)"
   ]
  },
  {
   "cell_type": "code",
   "execution_count": 79,
   "metadata": {
    "scrolled": false
   },
   "outputs": [],
   "source": [
    "train.drop('weights', axis=1, inplace=True)"
   ]
  },
  {
   "cell_type": "code",
   "execution_count": 228,
   "metadata": {},
   "outputs": [],
   "source": [
    "lgb_train = lgb.Dataset(X_train.drop(['weights'], axis=1), \n",
    "                       y_train, weight=X_train.weights.values)\n",
    "lgb_eval = lgb.Dataset(X_val.drop(['weights'], axis=1), \n",
    "                       y_val, reference=lgb_train, weight=X_val.weights.values)"
   ]
  },
  {
   "cell_type": "code",
   "execution_count": 229,
   "metadata": {},
   "outputs": [
    {
     "name": "stdout",
     "output_type": "stream",
     "text": [
      "Start training...\n",
      "[1]\tvalid_0's l2: 0.0427033\tvalid_0's auc: 0.682564\n",
      "Training until validation scores don't improve for 5 rounds.\n",
      "[2]\tvalid_0's l2: 0.0426865\tvalid_0's auc: 0.685161\n",
      "[3]\tvalid_0's l2: 0.0426678\tvalid_0's auc: 0.702075\n",
      "[4]\tvalid_0's l2: 0.0426478\tvalid_0's auc: 0.705261\n",
      "[5]\tvalid_0's l2: 0.0426291\tvalid_0's auc: 0.707257\n",
      "[6]\tvalid_0's l2: 0.042612\tvalid_0's auc: 0.708679\n",
      "[7]\tvalid_0's l2: 0.0425953\tvalid_0's auc: 0.711872\n",
      "[8]\tvalid_0's l2: 0.0425791\tvalid_0's auc: 0.716703\n",
      "[9]\tvalid_0's l2: 0.042561\tvalid_0's auc: 0.715687\n",
      "[10]\tvalid_0's l2: 0.0425444\tvalid_0's auc: 0.715968\n",
      "[11]\tvalid_0's l2: 0.0425298\tvalid_0's auc: 0.715553\n",
      "[12]\tvalid_0's l2: 0.0425136\tvalid_0's auc: 0.715395\n",
      "[13]\tvalid_0's l2: 0.0424996\tvalid_0's auc: 0.715714\n",
      "Early stopping, best iteration is:\n",
      "[8]\tvalid_0's l2: 0.0425791\tvalid_0's auc: 0.716703\n"
     ]
    }
   ],
   "source": [
    "params = {\n",
    "    'task': 'train',\n",
    "    'boosting_type': 'gbdt',\n",
    "    'metric': {'l2', 'auc'},\n",
    "    'num_leaves': 40,\n",
    "    'learning_rate': 0.005,\n",
    "    'feature_fraction': 0.55,\n",
    "    'bagging_fraction': 0.55,\n",
    "    'bagging_freq': 6\n",
    "}\n",
    "\n",
    "print('Start training...')\n",
    "gbm = lgb.train(params,\n",
    "                lgb_train,\n",
    "                num_boost_round=15,\n",
    "                valid_sets=lgb_eval,\n",
    "                early_stopping_rounds=5)"
   ]
  },
  {
   "cell_type": "code",
   "execution_count": 235,
   "metadata": {},
   "outputs": [
    {
     "data": {
      "text/plain": [
       "(array([5.082e+03, 5.720e+02, 2.550e+02, 9.200e+01, 3.900e+01, 1.400e+01,\n",
       "        7.000e+00, 6.000e+00, 6.000e+00, 3.000e+00]),\n",
       " array([0.04379589, 0.04611825, 0.04844062, 0.05076298, 0.05308534,\n",
       "        0.05540771, 0.05773007, 0.06005243, 0.0623748 , 0.06469716,\n",
       "        0.06701952]),\n",
       " <a list of 10 Patch objects>)"
      ]
     },
     "execution_count": 235,
     "metadata": {},
     "output_type": "execute_result"
    },
    {
     "data": {
      "image/png": "[encoded data removed]",
      "text/plain": [
       "<matplotlib.figure.Figure at 0x7f9f525ec048>"
      ]
     },
     "metadata": {},
     "output_type": "display_data"
    }
   ],
   "source": [
    "plt.hist(gbm.predict(X_val))"
   ]
  },
  {
   "cell_type": "code",
   "execution_count": 245,
   "metadata": {},
   "outputs": [
    {
     "data": {
      "text/plain": [
       "Counter({0: 5052, 1: 1024})"
      ]
     },
     "execution_count": 245,
     "metadata": {},
     "output_type": "execute_result"
    }
   ],
   "source": [
    "def mround(x):\n",
    "    if x > 0.0451:\n",
    "        return 1\n",
    "    return 0\n",
    "\n",
    "Counter([ mround(x) for x in gbm.predict(X_val)  ]) "
   ]
  },
  {
   "cell_type": "code",
   "execution_count": 260,
   "metadata": {},
   "outputs": [
    {
     "data": {
      "text/plain": [
       "0.6606451965378884"
      ]
     },
     "execution_count": 260,
     "metadata": {},
     "output_type": "execute_result"
    }
   ],
   "source": [
    "roc_auc_score(y_val, [ mround(x) for x in gbm.predict(X_val)  ])"
   ]
  },
  {
   "cell_type": "markdown",
   "metadata": {},
   "source": [
    "### Filter constans from test"
   ]
  },
  {
   "cell_type": "code",
   "execution_count": 630,
   "metadata": {},
   "outputs": [
    {
     "name": "stdout",
     "output_type": "stream",
     "text": [
      "(30500, 346)\n"
     ]
    }
   ],
   "source": [
    "filter_test_const_cols = ['129', '130', '137', '138', '303', '305',\n",
    "                          '5', '141', '149', '150', '164', '178', '186', '188',\n",
    "                          '192', '291', '301']\n",
    "\n",
    "print(train.shape)\n",
    "for col in filter_test_const_cols:\n",
    "    train = train[train[col] == 0].drop(col, axis=1)\n",
    "#     print(train.shape)"
   ]
  },
  {
   "cell_type": "code",
   "execution_count": 631,
   "metadata": {},
   "outputs": [
    {
     "name": "stdout",
     "output_type": "stream",
     "text": [
      "(4166, 347)\n",
      "(4166, 329) (30379, 328)\n"
     ]
    }
   ],
   "source": [
    "print(test.shape)\n",
    "\n",
    "train = train[train['11'] == 1].drop('11', axis=1)\n",
    "test.drop(filter_test_const_cols + ['11'], axis=1, inplace=True)\n",
    "print(test.shape, train.shape)"
   ]
  },
  {
   "cell_type": "markdown",
   "metadata": {},
   "source": [
    "### Remove constant from train"
   ]
  },
  {
   "cell_type": "code",
   "execution_count": 636,
   "metadata": {},
   "outputs": [],
   "source": [
    "remove_const_cols = ['140', '152', '160']\n",
    "\n",
    "train.drop(remove_const_cols, axis=1, inplace=True)\n",
    "test.drop(remove_const_cols, axis=1, inplace=True)\n",
    "print(train.shape, test.shape)"
   ]
  },
  {
   "cell_type": "code",
   "execution_count": 336,
   "metadata": {},
   "outputs": [
    {
     "data": {
      "text/plain": [
       "0.6800444292581204"
      ]
     },
     "execution_count": 336,
     "metadata": {},
     "output_type": "execute_result"
    }
   ],
   "source": [
    "lr = LogisticRegression(tol=0.9, C=100, random_state=42, solver='newton-cg', class_weight='balanced')\n",
    "lr.fit(X_train,  y_train)\n",
    "roc_auc_score(y_val, lr.predict(X_val))"
   ]
  },
  {
   "cell_type": "code",
   "execution_count": 73,
   "metadata": {},
   "outputs": [
    {
     "data": {
      "text/plain": [
       "0.6453053423451204"
      ]
     },
     "execution_count": 73,
     "metadata": {},
     "output_type": "execute_result"
    }
   ],
   "source": [
    "rf = RandomForestClassifier(n_estimators=250, \n",
    "                            random_state=42,\n",
    "                            min_samples_leaf=7,\n",
    "                            min_samples_split=15, \n",
    "                            class_weight='balanced',\n",
    "                            max_features='log2')\n",
    "\n",
    "rf.fit(X_train,  y_train)\n",
    "roc_auc_score(y_val, rf.predict(X_val))"
   ]
  },
  {
   "cell_type": "markdown",
   "metadata": {},
   "source": [
    "## Remove zeros cols"
   ]
  },
  {
   "cell_type": "code",
   "execution_count": 132,
   "metadata": {},
   "outputs": [],
   "source": [
    "zero_cols = ['66', '67', '68', '69', '70', '71', '72', '73', '74', '75', '76',\n",
    "             '77', '78', '79', '80', '81', '82', '83', '84', '85', '86',\n",
    "            '87', '88', '89', '90', '91']\n"
   ]
  },
  {
   "cell_type": "code",
   "execution_count": 137,
   "metadata": {},
   "outputs": [],
   "source": [
    "X.drop(zero_cols, axis=1, inplace=True)\n",
    "X_train, X_val, y_train, y_val = train_test_split(X, \n",
    "                                                  y,\n",
    "                                                   test_size=0.2, \n",
    "                                                   random_state=42,\n",
    "                                                stratify=y)"
   ]
  },
  {
   "cell_type": "code",
   "execution_count": 101,
   "metadata": {},
   "outputs": [
    {
     "data": {
      "text/plain": [
       "0.677994090297513"
      ]
     },
     "execution_count": 101,
     "metadata": {},
     "output_type": "execute_result"
    }
   ],
   "source": [
    "lr = LogisticRegression(tol=0.9, C=100, \n",
    "                        random_state=42,\n",
    "                        solver='newton-cg',\n",
    "                        class_weight='balanced',\n",
    "                        n_jobs=n_jobs)\n",
    "\n",
    "lr.fit(X_train,  y_train)\n",
    "roc_auc_score(y_val, lr.predict(X_val))"
   ]
  },
  {
   "cell_type": "code",
   "execution_count": 138,
   "metadata": {},
   "outputs": [
    {
     "data": {
      "text/plain": [
       "0.6476456104578213"
      ]
     },
     "execution_count": 138,
     "metadata": {},
     "output_type": "execute_result"
    }
   ],
   "source": [
    "rf = RandomForestClassifier(n_estimators=250, \n",
    "                            random_state=42,\n",
    "                            min_samples_leaf=7,\n",
    "                            min_samples_split=15, \n",
    "                            class_weight='balanced',\n",
    "                            max_features='log2')\n",
    "\n",
    "rf.fit(X_train,  y_train)\n",
    "roc_auc_score(y_val, rf.predict(X_val))"
   ]
  },
  {
   "cell_type": "markdown",
   "metadata": {},
   "source": [
    "### Corr features"
   ]
  },
  {
   "cell_type": "code",
   "execution_count": 108,
   "metadata": {},
   "outputs": [
    {
     "name": "stdout",
     "output_type": "stream",
     "text": [
      "34\n",
      "['110', '115', '117', '119', '122', '146', '148', '153', '158', '165', '17', '179', '180', '2', '20', '204', '206', '22', '24', '26', '311', '319', '323', '324', '325', '326', '327', '333', '334', '335', '341', '35', '39', '9']\n"
     ]
    }
   ],
   "source": [
    "corr_features = ['9', '2', '341', '311', '335', '334', '333', '327',\n",
    "                 '325', '326', '324', '323', '319', '204', '206', '26', '180',\n",
    "                 '179', '24', '165', '22', '158', '20', '17', '153', '148', '39',\n",
    "                 '35', '146', '122', '119', '115', '110', '117']\n",
    "\n",
    "print(len(corr_features))\n",
    "print(sorted(corr_features))"
   ]
  },
  {
   "cell_type": "code",
   "execution_count": 637,
   "metadata": {},
   "outputs": [],
   "source": [
    "del_corr = ['165', '180', '9', '153']\n",
    "train.drop(del_corr, axis=1, inplace=True)\n",
    "test.drop(del_corr, axis=1, inplace=True)"
   ]
  },
  {
   "cell_type": "code",
   "execution_count": 640,
   "metadata": {},
   "outputs": [],
   "source": [
    "X = train.drop('0', axis=1)\n",
    "X_train, X_val, y_train, y_val = train_test_split(X, \n",
    "                                                  y,\n",
    "                                                   test_size=0.2, \n",
    "                                                   random_state=42,\n",
    "                                                stratify=y)"
   ]
  },
  {
   "cell_type": "code",
   "execution_count": 528,
   "metadata": {},
   "outputs": [
    {
     "data": {
      "text/plain": [
       "0.6806070640483222"
      ]
     },
     "execution_count": 528,
     "metadata": {},
     "output_type": "execute_result"
    }
   ],
   "source": [
    "lr = LogisticRegression(tol=0.9, C=100, \n",
    "                        random_state=42,\n",
    "                        solver='newton-cg',\n",
    "                        class_weight='balanced',\n",
    "                        n_jobs=n_jobs)\n",
    "\n",
    "lr.fit(X_train,  y_train)\n",
    "roc_auc_score(y_val, lr.predict(X_val))"
   ]
  },
  {
   "cell_type": "code",
   "execution_count": 159,
   "metadata": {},
   "outputs": [
    {
     "data": {
      "text/plain": [
       "0.6468689781363232"
      ]
     },
     "execution_count": 159,
     "metadata": {},
     "output_type": "execute_result"
    }
   ],
   "source": [
    "rf = RandomForestClassifier(n_estimators=250, \n",
    "                            random_state=42,\n",
    "                            min_samples_leaf=7,\n",
    "                            min_samples_split=15, \n",
    "                            class_weight='balanced',\n",
    "                            max_features='log2')\n",
    "\n",
    "rf.fit(X_train,  y_train)\n",
    "roc_auc_score(y_val, rf.predict(X_val))"
   ]
  },
  {
   "cell_type": "markdown",
   "metadata": {},
   "source": [
    "### Try PCA visualization"
   ]
  },
  {
   "cell_type": "code",
   "execution_count": 725,
   "metadata": {},
   "outputs": [
    {
     "data": {
      "text/plain": [
       "<matplotlib.collections.PathCollection at 0x7f9f5f49f7f0>"
      ]
     },
     "execution_count": 725,
     "metadata": {},
     "output_type": "execute_result"
    },
    {
     "data": {
      "image/png": "[encoded data removed]",
      "text/plain": [
       "<matplotlib.figure.Figure at 0x7f9f5f1fc8d0>"
      ]
     },
     "metadata": {},
     "output_type": "display_data"
    }
   ],
   "source": [
    "from sklearn.decomposition import PCA\n",
    "X = PCA(2).fit_transform(X)\n",
    "\n",
    "colours = ['blue', 'red']\n",
    "n = 500\n",
    "\n",
    "plt.scatter(X[:n, 0].reshape(n), X[:n, 1].reshape(n),\n",
    "            color=[colours[int(i)-1] for i in y.unique()])"
   ]
  },
  {
   "cell_type": "markdown",
   "metadata": {},
   "source": [
    "### Try ExtraTreesClassifier"
   ]
  },
  {
   "cell_type": "code",
   "execution_count": 641,
   "metadata": {},
   "outputs": [
    {
     "data": {
      "text/plain": [
       "0.6807378145953539"
      ]
     },
     "execution_count": 641,
     "metadata": {},
     "output_type": "execute_result"
    }
   ],
   "source": [
    "from sklearn.ensemble import ExtraTreesClassifier\n",
    "\n",
    "forest = ExtraTreesClassifier(n_estimators=120,\n",
    "                              random_state=0,\n",
    "                              max_depth=15,\n",
    "                              max_features='sqrt',\n",
    "                              n_jobs=3, \n",
    "                              class_weight='balanced' )\n",
    "\n",
    "forest.fit(X_train,  y_train)\n",
    "roc_auc_score(y_val, forest.predict(X_val))"
   ]
  },
  {
   "cell_type": "markdown",
   "metadata": {},
   "source": [
    "### Feature importances"
   ]
  },
  {
   "cell_type": "code",
   "execution_count": 162,
   "metadata": {
    "scrolled": true
   },
   "outputs": [
    {
     "name": "stdout",
     "output_type": "stream",
     "text": [
      "Feature ranking:\n",
      "1. feature 94 (0.015871)\n",
      "2. feature 101 (0.014819)\n",
      "3. feature 98 (0.014795)\n",
      "4. feature 97 (0.014583)\n",
      "5. feature 102 (0.014514)\n",
      "6. feature 103 (0.014380)\n",
      "7. feature 100 (0.014231)\n",
      "8. feature 104 (0.014055)\n",
      "9. feature 99 (0.011299)\n",
      "10. feature 96 (0.011215)\n",
      "11. feature 189 (0.011080)\n",
      "12. feature 95 (0.010039)\n",
      "13. feature 191 (0.009729)\n",
      "14. feature 172 (0.009331)\n",
      "15. feature 121 (0.009249)\n",
      "16. feature 122 (0.009197)\n",
      "17. feature 179 (0.009094)\n",
      "18. feature 119 (0.009009)\n",
      "19. feature 110 (0.009001)\n",
      "20. feature 107 (0.008944)\n",
      "21. feature 173 (0.008900)\n",
      "22. feature 319 (0.008867)\n",
      "23. feature 186 (0.008835)\n",
      "24. feature 105 (0.008830)\n",
      "25. feature 90 (0.008789)\n",
      "26. feature 108 (0.008780)\n",
      "27. feature 183 (0.008733)\n",
      "28. feature 111 (0.008721)\n",
      "29. feature 187 (0.008659)\n",
      "30. feature 174 (0.008639)\n",
      "31. feature 177 (0.008636)\n",
      "32. feature 89 (0.008623)\n",
      "33. feature 181 (0.008622)\n",
      "34. feature 178 (0.008595)\n",
      "35. feature 182 (0.008530)\n",
      "36. feature 184 (0.008515)\n",
      "37. feature 185 (0.008508)\n",
      "38. feature 175 (0.008504)\n",
      "39. feature 123 (0.008489)\n",
      "40. feature 109 (0.008476)\n",
      "41. feature 176 (0.008435)\n",
      "42. feature 180 (0.008388)\n",
      "43. feature 188 (0.008234)\n",
      "44. feature 112 (0.008129)\n",
      "45. feature 9 (0.007927)\n",
      "46. feature 3 (0.007883)\n",
      "47. feature 195 (0.007863)\n",
      "48. feature 114 (0.007751)\n",
      "49. feature 106 (0.007604)\n",
      "50. feature 196 (0.007600)\n",
      "51. feature 194 (0.007554)\n",
      "52. feature 272 (0.007404)\n",
      "53. feature 117 (0.007183)\n",
      "54. feature 115 (0.007170)\n",
      "55. feature 116 (0.007065)\n",
      "56. feature 82 (0.007024)\n",
      "57. feature 88 (0.006981)\n",
      "58. feature 192 (0.006968)\n",
      "59. feature 312 (0.006964)\n",
      "60. feature 118 (0.006957)\n",
      "61. feature 113 (0.006746)\n",
      "62. feature 61 (0.006591)\n",
      "63. feature 5 (0.006465)\n",
      "64. feature 87 (0.006077)\n",
      "65. feature 56 (0.005800)\n",
      "66. feature 84 (0.005800)\n",
      "67. feature 120 (0.005577)\n",
      "68. feature 311 (0.005413)\n",
      "69. feature 299 (0.005396)\n",
      "70. feature 197 (0.005281)\n",
      "71. feature 134 (0.005256)\n",
      "72. feature 83 (0.005217)\n",
      "73. feature 30 (0.005152)\n",
      "74. feature 307 (0.005018)\n",
      "75. feature 309 (0.004917)\n",
      "76. feature 92 (0.004875)\n",
      "77. feature 298 (0.004843)\n",
      "78. feature 190 (0.004840)\n",
      "79. feature 297 (0.004730)\n",
      "80. feature 300 (0.004704)\n",
      "81. feature 293 (0.004643)\n",
      "82. feature 303 (0.004614)\n",
      "83. feature 302 (0.004561)\n",
      "84. feature 57 (0.004384)\n",
      "85. feature 137 (0.004282)\n",
      "86. feature 58 (0.004273)\n",
      "87. feature 68 (0.004193)\n",
      "88. feature 310 (0.004188)\n",
      "89. feature 289 (0.004186)\n",
      "90. feature 301 (0.004186)\n",
      "91. feature 79 (0.004137)\n",
      "92. feature 304 (0.004128)\n",
      "93. feature 91 (0.004112)\n",
      "94. feature 308 (0.004070)\n",
      "95. feature 85 (0.004009)\n",
      "96. feature 294 (0.004003)\n",
      "97. feature 32 (0.003967)\n",
      "98. feature 291 (0.003945)\n",
      "99. feature 296 (0.003915)\n",
      "100. feature 69 (0.003882)\n",
      "101. feature 86 (0.003847)\n",
      "102. feature 73 (0.003822)\n",
      "103. feature 288 (0.003822)\n",
      "104. feature 42 (0.003806)\n",
      "105. feature 59 (0.003755)\n",
      "106. feature 305 (0.003735)\n",
      "107. feature 295 (0.003703)\n",
      "108. feature 53 (0.003650)\n",
      "109. feature 37 (0.003571)\n",
      "110. feature 43 (0.003565)\n",
      "111. feature 47 (0.003543)\n",
      "112. feature 287 (0.003527)\n",
      "113. feature 63 (0.003525)\n",
      "114. feature 200 (0.003493)\n",
      "115. feature 60 (0.003472)\n",
      "116. feature 285 (0.003410)\n",
      "117. feature 93 (0.003401)\n",
      "118. feature 286 (0.003377)\n",
      "119. feature 201 (0.003376)\n",
      "120. feature 315 (0.003359)\n",
      "121. feature 306 (0.003229)\n",
      "122. feature 44 (0.003214)\n",
      "123. feature 67 (0.003193)\n",
      "124. feature 31 (0.002992)\n",
      "125. feature 35 (0.002859)\n",
      "126. feature 71 (0.002846)\n",
      "127. feature 41 (0.002839)\n",
      "128. feature 138 (0.002817)\n",
      "129. feature 70 (0.002804)\n",
      "130. feature 45 (0.002767)\n",
      "131. feature 21 (0.002748)\n",
      "132. feature 261 (0.002654)\n",
      "133. feature 274 (0.002631)\n",
      "134. feature 81 (0.002592)\n",
      "135. feature 55 (0.002505)\n",
      "136. feature 136 (0.002465)\n",
      "137. feature 33 (0.002395)\n",
      "138. feature 16 (0.002381)\n",
      "139. feature 144 (0.002378)\n",
      "140. feature 135 (0.002372)\n",
      "141. feature 318 (0.002289)\n",
      "142. feature 72 (0.002273)\n",
      "143. feature 64 (0.002241)\n",
      "144. feature 7 (0.002194)\n",
      "145. feature 46 (0.002188)\n",
      "146. feature 199 (0.002187)\n",
      "147. feature 38 (0.002167)\n",
      "148. feature 78 (0.002060)\n",
      "149. feature 154 (0.001941)\n",
      "150. feature 18 (0.001936)\n",
      "151. feature 27 (0.001891)\n",
      "152. feature 316 (0.001867)\n",
      "153. feature 52 (0.001835)\n",
      "154. feature 275 (0.001794)\n",
      "155. feature 292 (0.001769)\n",
      "156. feature 313 (0.001768)\n",
      "157. feature 40 (0.001749)\n",
      "158. feature 252 (0.001678)\n",
      "159. feature 34 (0.001667)\n",
      "160. feature 66 (0.001628)\n",
      "161. feature 132 (0.001616)\n",
      "162. feature 17 (0.001541)\n",
      "163. feature 169 (0.001529)\n",
      "164. feature 168 (0.001406)\n",
      "165. feature 19 (0.001376)\n",
      "166. feature 11 (0.001373)\n",
      "167. feature 211 (0.001358)\n",
      "168. feature 62 (0.001331)\n",
      "169. feature 36 (0.001268)\n",
      "170. feature 77 (0.001265)\n",
      "171. feature 149 (0.001222)\n",
      "172. feature 1 (0.001210)\n",
      "173. feature 20 (0.001198)\n",
      "174. feature 29 (0.001169)\n",
      "175. feature 0 (0.001160)\n",
      "176. feature 15 (0.001151)\n",
      "177. feature 51 (0.001149)\n",
      "178. feature 161 (0.001120)\n",
      "179. feature 74 (0.001102)\n",
      "180. feature 80 (0.001087)\n",
      "181. feature 246 (0.001076)\n",
      "182. feature 317 (0.001065)\n",
      "183. feature 14 (0.001057)\n",
      "184. feature 160 (0.001018)\n",
      "185. feature 150 (0.001015)\n",
      "186. feature 26 (0.001006)\n",
      "187. feature 48 (0.000970)\n",
      "188. feature 256 (0.000970)\n",
      "189. feature 159 (0.000933)\n",
      "190. feature 209 (0.000932)\n",
      "191. feature 54 (0.000928)\n",
      "192. feature 167 (0.000922)\n",
      "193. feature 145 (0.000920)\n",
      "194. feature 249 (0.000899)\n",
      "195. feature 230 (0.000898)\n",
      "196. feature 76 (0.000890)\n",
      "197. feature 269 (0.000871)\n",
      "198. feature 251 (0.000844)\n",
      "199. feature 231 (0.000840)\n",
      "200. feature 65 (0.000834)\n",
      "201. feature 264 (0.000820)\n",
      "202. feature 151 (0.000817)\n",
      "203. feature 271 (0.000817)\n",
      "204. feature 39 (0.000816)\n",
      "205. feature 226 (0.000809)\n",
      "206. feature 50 (0.000795)\n",
      "207. feature 259 (0.000785)\n",
      "208. feature 232 (0.000747)\n",
      "209. feature 216 (0.000733)\n",
      "210. feature 156 (0.000717)\n",
      "211. feature 243 (0.000709)\n",
      "212. feature 260 (0.000707)\n",
      "213. feature 139 (0.000702)\n",
      "214. feature 193 (0.000663)\n",
      "215. feature 148 (0.000643)\n",
      "216. feature 229 (0.000639)\n",
      "217. feature 240 (0.000627)\n",
      "218. feature 49 (0.000622)\n",
      "219. feature 130 (0.000597)\n",
      "220. feature 217 (0.000596)\n",
      "221. feature 75 (0.000594)\n",
      "222. feature 255 (0.000588)\n",
      "223. feature 165 (0.000584)\n",
      "224. feature 228 (0.000583)\n",
      "225. feature 267 (0.000572)\n",
      "226. feature 8 (0.000557)\n",
      "227. feature 238 (0.000555)\n",
      "228. feature 233 (0.000516)\n",
      "229. feature 141 (0.000512)\n",
      "230. feature 270 (0.000493)\n",
      "231. feature 28 (0.000492)\n",
      "232. feature 220 (0.000490)\n",
      "233. feature 203 (0.000478)\n",
      "234. feature 244 (0.000474)\n",
      "235. feature 219 (0.000473)\n",
      "236. feature 262 (0.000465)\n",
      "237. feature 25 (0.000459)\n",
      "238. feature 12 (0.000451)\n",
      "239. feature 128 (0.000438)\n",
      "240. feature 253 (0.000432)\n",
      "241. feature 198 (0.000429)\n",
      "242. feature 218 (0.000417)\n",
      "243. feature 215 (0.000392)\n",
      "244. feature 227 (0.000371)\n",
      "245. feature 276 (0.000370)\n",
      "246. feature 22 (0.000362)\n",
      "247. feature 235 (0.000354)\n",
      "248. feature 223 (0.000350)\n",
      "249. feature 254 (0.000346)\n",
      "250. feature 10 (0.000344)\n",
      "251. feature 24 (0.000340)\n",
      "252. feature 140 (0.000327)\n",
      "253. feature 126 (0.000313)\n",
      "254. feature 279 (0.000307)\n",
      "255. feature 205 (0.000302)\n",
      "256. feature 221 (0.000296)\n",
      "257. feature 213 (0.000294)\n",
      "258. feature 152 (0.000280)\n",
      "259. feature 241 (0.000279)\n",
      "260. feature 124 (0.000276)\n",
      "261. feature 164 (0.000274)\n",
      "262. feature 4 (0.000273)\n",
      "263. feature 268 (0.000270)\n",
      "264. feature 242 (0.000266)\n",
      "265. feature 133 (0.000257)\n",
      "266. feature 257 (0.000256)\n",
      "267. feature 204 (0.000251)\n",
      "268. feature 206 (0.000247)\n",
      "269. feature 224 (0.000246)\n",
      "270. feature 23 (0.000244)\n",
      "271. feature 239 (0.000243)\n",
      "272. feature 234 (0.000237)\n",
      "273. feature 250 (0.000224)\n",
      "274. feature 13 (0.000222)\n",
      "275. feature 157 (0.000209)\n",
      "276. feature 280 (0.000202)\n",
      "277. feature 125 (0.000201)\n",
      "278. feature 266 (0.000186)\n",
      "279. feature 129 (0.000167)\n",
      "280. feature 248 (0.000158)\n",
      "281. feature 131 (0.000155)\n",
      "282. feature 265 (0.000154)\n",
      "283. feature 290 (0.000152)\n",
      "284. feature 158 (0.000152)\n",
      "285. feature 162 (0.000152)\n",
      "286. feature 155 (0.000152)\n",
      "287. feature 127 (0.000151)\n",
      "288. feature 283 (0.000136)\n",
      "289. feature 143 (0.000123)\n",
      "290. feature 208 (0.000117)\n",
      "291. feature 142 (0.000110)\n",
      "292. feature 6 (0.000098)\n",
      "293. feature 273 (0.000097)\n",
      "294. feature 222 (0.000094)\n",
      "295. feature 212 (0.000093)\n",
      "296. feature 284 (0.000090)\n",
      "297. feature 207 (0.000090)\n",
      "298. feature 263 (0.000080)\n",
      "299. feature 314 (0.000073)\n",
      "300. feature 258 (0.000072)\n",
      "301. feature 214 (0.000063)\n",
      "302. feature 245 (0.000057)\n",
      "303. feature 153 (0.000053)\n",
      "304. feature 147 (0.000051)\n",
      "305. feature 281 (0.000046)\n",
      "306. feature 202 (0.000036)\n",
      "307. feature 236 (0.000034)\n",
      "308. feature 225 (0.000032)\n",
      "309. feature 210 (0.000032)\n",
      "310. feature 237 (0.000026)\n",
      "311. feature 277 (0.000021)\n",
      "312. feature 278 (0.000011)\n",
      "313. feature 282 (0.000006)\n",
      "314. feature 146 (0.000005)\n",
      "315. feature 2 (0.000003)\n",
      "316. feature 247 (0.000003)\n",
      "317. feature 166 (0.000002)\n",
      "318. feature 163 (0.000002)\n",
      "319. feature 171 (0.000000)\n",
      "320. feature 170 (0.000000)\n"
     ]
    },
    {
     "data": {
      "image/png": "[encoded data removed]",
      "text/plain": [
       "<matplotlib.figure.Figure at 0x7f9f3e23bba8>"
      ]
     },
     "metadata": {},
     "output_type": "display_data"
    }
   ],
   "source": [
    "from sklearn.ensemble import ExtraTreesClassifier\n",
    "# Build a forest and compute the feature importances\n",
    "forest = ExtraTreesClassifier(n_estimators=250,\n",
    "                              random_state=0, )\n",
    "\n",
    "forest.fit(X, y)\n",
    "importances = forest.feature_importances_\n",
    "std = np.std([tree.feature_importances_ for tree in forest.estimators_],\n",
    "             axis=0)\n",
    "indices = np.argsort(importances)[::-1]\n",
    "\n",
    "# Print the feature ranking\n",
    "print(\"Feature ranking:\")\n",
    "most_important_feature = dict()\n",
    "for f in range(X.shape[1]):\n",
    "    most_important_feature[X.columns[f]] = importances[indices[f]]\n",
    "    print(\"%d. feature %d (%f)\" % (f + 1, indices[f], importances[indices[f]]))\n",
    "\n",
    "# Plot the feature importances of the forest\n",
    "plt.figure()\n",
    "plt.title(\"Feature importances\")\n",
    "plt.bar(range(X.shape[1]), importances[indices],\n",
    "       color=\"r\", yerr=std[indices], align=\"center\")\n",
    "plt.xticks(range(X.shape[1]), indices)\n",
    "plt.xlim([-1, X.shape[1]])\n",
    "plt.show()"
   ]
  },
  {
   "cell_type": "markdown",
   "metadata": {},
   "source": [
    "### Build LR in top 80, 100 .. features"
   ]
  },
  {
   "cell_type": "code",
   "execution_count": 179,
   "metadata": {},
   "outputs": [],
   "source": [
    "from collections import Counter\n",
    "most_im_fc = Counter(most_important_feature)\n",
    "most_important_features = np.array([p[0] for p in most_im_fc.most_common(80)])"
   ]
  },
  {
   "cell_type": "code",
   "execution_count": 180,
   "metadata": {},
   "outputs": [
    {
     "data": {
      "text/plain": [
       "0.6384372346444501"
      ]
     },
     "execution_count": 180,
     "metadata": {},
     "output_type": "execute_result"
    }
   ],
   "source": [
    "lr = LogisticRegression(tol=0.9, C=100, \n",
    "                        random_state=42,\n",
    "                        solver='newton-cg',\n",
    "                        class_weight='balanced',\n",
    "                        n_jobs=n_jobs)\n",
    "\n",
    "lr.fit(X_train[most_important_features],  y_train)\n",
    "roc_auc_score(y_val, lr.predict(X_val[most_important_features]))"
   ]
  },
  {
   "cell_type": "markdown",
   "metadata": {},
   "source": [
    "### Try bagging"
   ]
  },
  {
   "cell_type": "code",
   "execution_count": 587,
   "metadata": {},
   "outputs": [],
   "source": [
    "from sklearn.ensemble import BaggingClassifier\n",
    "\n",
    "bagging = BaggingClassifier(LogisticRegression(class_weight= 'balanced',\n",
    "                                               tol=0.9, C=1., \n",
    "                                               random_state=42,\n",
    "                                               solver='newton-cg',\n",
    "                                               n_jobs=n_jobs),\n",
    "                             max_samples=0.65,\n",
    "                             max_features=0.70,\n",
    "                             n_estimators=15, \n",
    "                             random_state=42)"
   ]
  },
  {
   "cell_type": "code",
   "execution_count": 588,
   "metadata": {},
   "outputs": [
    {
     "data": {
      "text/plain": [
       "BaggingClassifier(base_estimator=LogisticRegression(C=1.0, class_weight='balanced', dual=False,\n",
       "          fit_intercept=True, intercept_scaling=1, max_iter=100,\n",
       "          multi_class='ovr', n_jobs=3, penalty='l2', random_state=42,\n",
       "          solver='newton-cg', tol=0.9, verbose=0, warm_start=False),\n",
       "         bootstrap=True, bootstrap_features=False, max_features=0.7,\n",
       "         max_samples=0.65, n_estimators=15, n_jobs=1, oob_score=False,\n",
       "         random_state=42, verbose=0, warm_start=False)"
      ]
     },
     "execution_count": 588,
     "metadata": {},
     "output_type": "execute_result"
    }
   ],
   "source": [
    "bagging.fit(X_train, y_train)"
   ]
  },
  {
   "cell_type": "code",
   "execution_count": 589,
   "metadata": {},
   "outputs": [
    {
     "data": {
      "text/plain": [
       "0.6777489793215973"
      ]
     },
     "execution_count": 589,
     "metadata": {},
     "output_type": "execute_result"
    }
   ],
   "source": [
    "roc_auc_score(y_val, bagging.predict(X_val))"
   ]
  },
  {
   "cell_type": "markdown",
   "metadata": {},
   "source": [
    "### Simple ansemble"
   ]
  },
  {
   "cell_type": "code",
   "execution_count": 690,
   "metadata": {
    "scrolled": true
   },
   "outputs": [],
   "source": [
    "skf = StratifiedKFold(n_splits=3, shuffle=True, random_state=42)\n",
    "et = forest\n",
    "rf_predictions = []\n",
    "et_predictions = []\n",
    "\n",
    "for train, val in skf.split(X, y):\n",
    "#     print(train, val)\n",
    "    rf.fit(X.iloc[train], y.iloc[train])\n",
    "    et.fit(X.iloc[train], y.iloc[train])\n",
    "    rf_predictions.append([y.iloc[val], rf.predict_proba(X.iloc[val])[:,1]])\n",
    "    et_predictions.append([y.iloc[val], et.predict_proba(X.iloc[val])[:,1]])"
   ]
  },
  {
   "cell_type": "code",
   "execution_count": 712,
   "metadata": {},
   "outputs": [],
   "source": [
    "\n",
    "lr_predictions = []\n",
    "et_predictions = []\n",
    "\n",
    "for train, val in skf.split(X, y):\n",
    "\n",
    "    lr.fit(X.iloc[train], y.iloc[train])\n",
    "    et.fit(X.iloc[train], y.iloc[train])\n",
    "    lr_predictions.append([y.iloc[val], lr.predict_proba(X.iloc[val])[:,1]])\n",
    "    et_predictions.append([y.iloc[val], et.predict_proba(X.iloc[val])[:,1]])"
   ]
  },
  {
   "cell_type": "code",
   "execution_count": 699,
   "metadata": {},
   "outputs": [
    {
     "data": {
      "text/plain": [
       "(0.721651559159803, 0.7273380384433615)"
      ]
     },
     "execution_count": 699,
     "metadata": {},
     "output_type": "execute_result"
    }
   ],
   "source": [
    "# RF + ExtraTrees\n",
    "np.mean([roc_auc_score(i[0], i[1]) for i in rf_predictions]), np.mean([roc_auc_score(i[0], i[1]) for i in et_predictions])"
   ]
  },
  {
   "cell_type": "code",
   "execution_count": 693,
   "metadata": {
    "scrolled": false
   },
   "outputs": [
    {
     "data": {
      "text/plain": [
       "(0.6764517243496013, 0.7273380384433615)"
      ]
     },
     "execution_count": 693,
     "metadata": {},
     "output_type": "execute_result"
    }
   ],
   "source": [
    "#  LR + ExtraTrees\n",
    "\n",
    "np.mean([roc_auc_score(i[0], i[1]) for i in lr_predictions]), np.mean([roc_auc_score(i[0], i[1]) for i in et_predictions])"
   ]
  },
  {
   "cell_type": "markdown",
   "metadata": {},
   "source": [
    "\n",
    "### Simple averaging"
   ]
  },
  {
   "cell_type": "code",
   "execution_count": 700,
   "metadata": {},
   "outputs": [
    {
     "data": {
      "text/plain": [
       "0.7341359831780601"
      ]
     },
     "execution_count": 700,
     "metadata": {},
     "output_type": "execute_result"
    }
   ],
   "source": [
    "# RF + ExtraTrees\n",
    "np.mean([roc_auc_score(rf_p[0], rf_p[1]*0.5 + et_p[1]*0.5) for rf_p, et_p in zip(rf_predictions, et_predictions)])"
   ]
  },
  {
   "cell_type": "code",
   "execution_count": 694,
   "metadata": {},
   "outputs": [
    {
     "data": {
      "text/plain": [
       "0.7221105389896744"
      ]
     },
     "execution_count": 694,
     "metadata": {},
     "output_type": "execute_result"
    }
   ],
   "source": [
    "#  LR + ExtraTrees\n",
    "\n",
    "np.mean([roc_auc_score(rf_p[0], rf_p[1]*0.5 + et_p[1]*0.5) for rf_p, et_p in zip(rf_predictions, et_predictions)])"
   ]
  },
  {
   "cell_type": "markdown",
   "metadata": {},
   "source": [
    "### Geometric mean"
   ]
  },
  {
   "cell_type": "code",
   "execution_count": 701,
   "metadata": {},
   "outputs": [
    {
     "data": {
      "text/plain": [
       "0.7339171479070217"
      ]
     },
     "execution_count": 701,
     "metadata": {},
     "output_type": "execute_result"
    }
   ],
   "source": [
    "# RF + ExtraTrees\n",
    "np.mean([roc_auc_score(rf_p[0], np.sqrt(rf_p[1]*et_p[1])) for rf_p, et_p in zip(rf_predictions, et_predictions)])"
   ]
  },
  {
   "cell_type": "code",
   "execution_count": 695,
   "metadata": {},
   "outputs": [
    {
     "data": {
      "text/plain": [
       "0.7153872684623916"
      ]
     },
     "execution_count": 695,
     "metadata": {},
     "output_type": "execute_result"
    }
   ],
   "source": [
    "#  LR + ExtraTrees\n",
    "\n",
    "np.mean([roc_auc_score(rf_p[0], np.sqrt(rf_p[1]*et_p[1])) for rf_p, et_p in zip(lr_predictions, et_predictions)])"
   ]
  },
  {
   "cell_type": "markdown",
   "metadata": {},
   "source": [
    "### Rank avarage"
   ]
  },
  {
   "cell_type": "code",
   "execution_count": 696,
   "metadata": {},
   "outputs": [
    {
     "data": {
      "text/plain": [
       "0.7124336555659387"
      ]
     },
     "execution_count": 696,
     "metadata": {},
     "output_type": "execute_result"
    }
   ],
   "source": [
    "from scipy.stats import rankdata\n",
    "# RF + ExtraTrees\n",
    "np.mean([roc_auc_score(rf_p[0], rankdata(rf_p[1]) + rankdata(et_p[1])) for rf_p, et_p in zip(rf_predictions, et_predictions)])"
   ]
  },
  {
   "cell_type": "code",
   "execution_count": 702,
   "metadata": {},
   "outputs": [
    {
     "data": {
      "text/plain": [
       "0.7346453280525592"
      ]
     },
     "execution_count": 702,
     "metadata": {},
     "output_type": "execute_result"
    }
   ],
   "source": [
    "#  LR + ExtraTrees\n",
    "np.mean([roc_auc_score(rf_p[0], rankdata(rf_p[1]) + rankdata(et_p[1])) for rf_p, et_p in zip(lr_predictions, et_predictions)])"
   ]
  },
  {
   "cell_type": "markdown",
   "metadata": {},
   "source": [
    "### Comparison different models"
   ]
  },
  {
   "cell_type": "code",
   "execution_count": 643,
   "metadata": {
    "scrolled": false
   },
   "outputs": [
    {
     "data": {
      "image/png": "[encoded data removed]",
      "text/plain": [
       "<matplotlib.figure.Figure at 0x7f9f5f1e5390>"
      ]
     },
     "metadata": {},
     "output_type": "display_data"
    },
    {
     "data": {
      "image/png": "[encoded data removed]",
      "text/plain": [
       "<matplotlib.figure.Figure at 0x7f9f5edd3fd0>"
      ]
     },
     "metadata": {},
     "output_type": "display_data"
    }
   ],
   "source": [
    "n_estimator = 80\n",
    "state=42\n",
    "\n",
    "X_train, X_test, y_train, y_test = train_test_split(X, y, test_size=0.4, stratify=y)\n",
    "# It is important to train the ensemble of trees on a different subset\n",
    "# of the training data than the linear regression model to avoid\n",
    "# overfitting, in particular if the total number of leaves is\n",
    "# similar to the number of training samples\n",
    "X_train, X_train_lr, y_train, y_train_lr = train_test_split(X_train,\n",
    "                                                            y_train,\n",
    "                                                            test_size=0.2, \n",
    "                                                            stratify=y_train,\n",
    "                                                            random_state=state)\n",
    "\n",
    "# Unsupervised transformation based on totally random trees\n",
    "rt = RandomTreesEmbedding(max_depth=3,\n",
    "                          n_estimators=n_estimator,\n",
    "                          random_state=state)\n",
    "\n",
    "rt_lm = LogisticRegression(random_state=state)\n",
    "pipeline = make_pipeline(rt, rt_lm)\n",
    "pipeline.fit(X_train, y_train)\n",
    "y_pred_rt = pipeline.predict_proba(X_test)[:, 1]\n",
    "fpr_rt_lm, tpr_rt_lm, _ = roc_curve(y_test, y_pred_rt)\n",
    "\n",
    "# Supervised transformation based on random forests\n",
    "rf = RandomForestClassifier(max_depth=3, n_estimators=n_estimator, random_state=state)\n",
    "rf_enc = OneHotEncoder()\n",
    "rf_lm = LogisticRegression(random_state=state)\n",
    "rf.fit(X_train, y_train)\n",
    "rf_enc.fit(rf.apply(X_train))\n",
    "rf_lm.fit(rf_enc.transform(rf.apply(X_train_lr)), y_train_lr)\n",
    "\n",
    "y_pred_rf_lm = rf_lm.predict_proba(rf_enc.transform(rf.apply(X_test)))[:, 1]\n",
    "fpr_rf_lm, tpr_rf_lm, _ = roc_curve(y_test, y_pred_rf_lm)\n",
    "\n",
    "grd = GradientBoostingClassifier(n_estimators=n_estimator, random_state=state)\n",
    "grd_enc = OneHotEncoder()\n",
    "grd_lm = LogisticRegression(random_state=state)\n",
    "grd.fit(X_train, y_train)\n",
    "grd_enc.fit(grd.apply(X_train)[:, :, 0])\n",
    "grd_lm.fit(grd_enc.transform(grd.apply(X_train_lr)[:, :, 0]), y_train_lr)\n",
    "\n",
    "y_pred_grd_lm = grd_lm.predict_proba(\n",
    "    grd_enc.transform(grd.apply(X_test)[:, :, 0]))[:, 1]\n",
    "fpr_grd_lm, tpr_grd_lm, _ = roc_curve(y_test, y_pred_grd_lm)\n",
    "\n",
    "\n",
    "# The gradient boosted model by itself\n",
    "y_pred_grd = grd.predict_proba(X_test)[:, 1]\n",
    "fpr_grd, tpr_grd, _ = roc_curve(y_test, y_pred_grd)\n",
    "\n",
    "\n",
    "# The random forest model by itself\n",
    "y_pred_rf = rf.predict_proba(X_test)[:, 1]\n",
    "fpr_rf, tpr_rf, _ = roc_curve(y_test, y_pred_rf)\n",
    "\n",
    "plt.figure(1)\n",
    "plt.plot([0, 1], [0, 1], 'k--')\n",
    "plt.plot(fpr_rt_lm, tpr_rt_lm, label='RT + LR')\n",
    "plt.plot(fpr_rf, tpr_rf, label='RF')\n",
    "plt.plot(fpr_rf_lm, tpr_rf_lm, label='RF + LR')\n",
    "plt.plot(fpr_grd, tpr_grd, label='GBT')\n",
    "plt.plot(fpr_grd_lm, tpr_grd_lm, label='GBT + LR')\n",
    "plt.xlabel('False positive rate')\n",
    "plt.ylabel('True positive rate')\n",
    "plt.title('ROC curve')\n",
    "plt.legend(loc='best')\n",
    "plt.show()\n",
    "\n",
    "plt.figure(2)\n",
    "plt.xlim(0, 0.6)\n",
    "plt.ylim(0.55, 1)\n",
    "plt.plot([0, 1], [0, 1], 'k--')\n",
    "plt.plot(fpr_rt_lm, tpr_rt_lm, label='RT + LR')\n",
    "plt.plot(fpr_rf, tpr_rf, label='RF')\n",
    "plt.plot(fpr_rf_lm, tpr_rf_lm, label='RF + LR')\n",
    "plt.plot(fpr_grd, tpr_grd, label='GBT')\n",
    "plt.plot(fpr_grd_lm, tpr_grd_lm, label='GBT + LR')\n",
    "plt.xlabel('False positive rate')\n",
    "plt.ylabel('True positive rate')\n",
    "plt.title('ROC curve (zoomed in at top left)')\n",
    "plt.legend(loc='best')\n",
    "plt.show()"
   ]
  },
  {
   "cell_type": "markdown",
   "metadata": {},
   "source": [
    "### Try Gradient Boosting"
   ]
  },
  {
   "cell_type": "code",
   "execution_count": 502,
   "metadata": {},
   "outputs": [
    {
     "data": {
      "text/plain": [
       "GradientBoostingClassifier(criterion='friedman_mse', init=None,\n",
       "              learning_rate=0.1, loss='deviance', max_depth=3,\n",
       "              max_features='log2', max_leaf_nodes=None,\n",
       "              min_impurity_decrease=0.0, min_impurity_split=None,\n",
       "              min_samples_leaf=1, min_samples_split=2,\n",
       "              min_weight_fraction_leaf=0.0, n_estimators=50,\n",
       "              presort='auto', random_state=42, subsample=1.0, verbose=0,\n",
       "              warm_start=False)"
      ]
     },
     "execution_count": 502,
     "metadata": {},
     "output_type": "execute_result"
    }
   ],
   "source": [
    "grd = GradientBoostingClassifier(n_estimators=50,\n",
    "                                 max_features='log2', random_state=42)\n",
    "\n",
    "grd.fit(X_train, y_train ) \n"
   ]
  },
  {
   "cell_type": "code",
   "execution_count": 513,
   "metadata": {},
   "outputs": [
    {
     "data": {
      "text/plain": [
       "0.6729678799984072"
      ]
     },
     "execution_count": 513,
     "metadata": {},
     "output_type": "execute_result"
    }
   ],
   "source": [
    "def mround2(x):\n",
    "    if x[1] > 0.2159:\n",
    "        return 1\n",
    "    return 0\n",
    "\n",
    "roc_auc_score(y_val, [mround2(x) for x in grd.predict_proba(X_val)])"
   ]
  },
  {
   "cell_type": "code",
   "execution_count": 515,
   "metadata": {
    "scrolled": false
   },
   "outputs": [
    {
     "data": {
      "text/plain": [
       "(array([1307., 2192., 1191.,  526.,  428.,  230.,  122.,   50.,   20.,\n",
       "          10.]),\n",
       " array([0.05768313, 0.11215597, 0.16662882, 0.22110166, 0.2755745 ,\n",
       "        0.33004735, 0.38452019, 0.43899304, 0.49346588, 0.54793873,\n",
       "        0.60241157]),\n",
       " <a list of 10 Patch objects>)"
      ]
     },
     "execution_count": 515,
     "metadata": {},
     "output_type": "execute_result"
    },
    {
     "data": {
      "image/png": "[encoded data removed]",
      "text/plain": [
       "<matplotlib.figure.Figure at 0x7f9f5f4e8fd0>"
      ]
     },
     "metadata": {},
     "output_type": "display_data"
    }
   ],
   "source": [
    "plt.hist(grd.predict_proba(X_val)[:, 1])"
   ]
  },
  {
   "cell_type": "markdown",
   "metadata": {},
   "source": [
    "To be continued.."
   ]
  },
  {
   "cell_type": "markdown",
   "metadata": {},
   "source": [
    "### Predict test"
   ]
  },
  {
   "cell_type": "code",
   "execution_count": 649,
   "metadata": {},
   "outputs": [],
   "source": [
    "test.drop('0', axis=1, inplace=True)"
   ]
  },
  {
   "cell_type": "code",
   "execution_count": 644,
   "metadata": {},
   "outputs": [],
   "source": [
    "def to_submission(predictions, filename):\n",
    "    result = pd.Series(predictions, name='_VAL_')\n",
    "    result.to_csv(filename, header=True, index_label='_ID_')"
   ]
  },
  {
   "cell_type": "code",
   "execution_count": 650,
   "metadata": {},
   "outputs": [],
   "source": [
    "final_predict = bagging.predict(test.drop(['_ID_'], axis=1))\n",
    "to_submission(final_predict, 'bagging.csv')"
   ]
  }
 ],
 "metadata": {
  "kernelspec": {
   "display_name": "Python [conda root]",
   "language": "python",
   "name": "conda-root-py"
  },
  "language_info": {
   "codemirror_mode": {
    "name": "ipython",
    "version": 3
   },
   "file_extension": ".py",
   "mimetype": "text/x-python",
   "name": "python",
   "nbconvert_exporter": "python",
   "pygments_lexer": "ipython3",
   "version": "3.6.4"
  }
 },
 "nbformat": 4,
 "nbformat_minor": 2
}
