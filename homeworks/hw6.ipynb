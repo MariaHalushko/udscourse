{
 "cells": [
  {
   "cell_type": "code",
   "execution_count": 228,
   "metadata": {
    "collapsed": true
   },
   "outputs": [],
   "source": [
    "import pandas as pd\n",
    "import numpy as np\n",
    "np.random.seed(10)\n",
    "import pandas_profiling as pp\n",
    "\n",
    "import matplotlib.pyplot as plt\n",
    "import seaborn as sns\n",
    "%matplotlib inline\n",
    "\n",
    "import warnings\n",
    "warnings.simplefilter('ignore')\n",
    "\n",
    "from scipy.stats import rankdata\n",
    "\n",
    "from sklearn.preprocessing import label_binarize\n",
    "from sklearn.preprocessing import StandardScaler\n",
    "from sklearn.model_selection import GridSearchCV\n",
    "\n",
    "from sklearn.ensemble import (RandomTreesEmbedding, RandomForestClassifier,\n",
    "                              GradientBoostingClassifier)\n",
    "from sklearn.preprocessing import OneHotEncoder\n",
    "from sklearn.linear_model import LogisticRegression\n",
    "from sklearn.ensemble import RandomForestClassifier\n",
    "from sklearn.tree import DecisionTreeClassifier\n",
    "import lightgbm as lgb\n",
    "from sklearn import svm\n",
    "\n",
    "from sklearn.model_selection import (\n",
    "    train_test_split, StratifiedKFold, cross_val_score, GridSearchCV\n",
    ")\n",
    "from sklearn.metrics import roc_auc_score\n",
    "from sklearn.utils import class_weight\n",
    "\n",
    "from os import cpu_count\n",
    "\n",
    "from sklearn.metrics import roc_curve\n",
    "from sklearn.pipeline import make_pipeline\n",
    "\n",
    "plt.style.use(\"fivethirtyeight\")\n",
    "plt.rcParams['figure.figsize'] = 12, 8\n",
    "\n",
    "pd.options.display.width = 500\n",
    "n_jobs = max(cpu_count()-1, 1)"
   ]
  },
  {
   "cell_type": "code",
   "execution_count": 45,
   "metadata": {
    "collapsed": true
   },
   "outputs": [],
   "source": [
    "train = pd.read_csv(\"../../../data/modulbank/train.csv\", sep='\\t')\n",
    "test = pd.read_csv(\"../../../data/modulbank/test.csv\", sep='\\t')"
   ]
  },
  {
   "cell_type": "code",
   "execution_count": 10,
   "metadata": {
    "collapsed": true
   },
   "outputs": [],
   "source": [
    "profile = pp.ProfileReport(train)\n",
    "profile.to_file(outputfile=\"statistic_train.html\")\n",
    "\n",
    "profile = pp.ProfileReport(test)\n",
    "profile.to_file(outputfile=\"statistic_test.html\")"
   ]
  },
  {
   "cell_type": "code",
   "execution_count": 5,
   "metadata": {
    "collapsed": true
   },
   "outputs": [],
   "source": [
    "def make_file(y_pred, filename):\n",
    "    submission = pd.Series (y_pred, name='_VAL_' )\n",
    "    submission.to_csv(filename, index_label='_ID_', header =True )"
   ]
  },
  {
   "cell_type": "code",
   "execution_count": 46,
   "metadata": {
    "collapsed": true
   },
   "outputs": [],
   "source": [
    "def clean_data(train, test):\n",
    "    \n",
    "    train.drop('Unnamed: 0', axis=1, inplace=True)\n",
    "    test.drop(['Unnamed: 0', '0'], axis=1, inplace=True)\n",
    "\n",
    "    filter_test_const_cols = ['129', '130', '137', '138', '303', '305', '5', '141', '149',\n",
    "                              '150', '164', '178', '186', '188', '192', '291', '301']\n",
    "    \n",
    "    for col in filter_test_const_cols:\n",
    "        train = train[train[col] == 0].drop(col, axis=1)\n",
    "    \n",
    "    train = train[train['11'] == 1].drop('11', axis=1)\n",
    "    test.drop(filter_test_const_cols + ['11'], axis=1, inplace=True)\n",
    "    \n",
    "    remove_const_cols = ['140', '152', '160']\n",
    "#     repeated_cols = [ '9', '153']\n",
    "    train.drop(remove_const_cols, axis=1, inplace=True)\n",
    "    test.drop(remove_const_cols, axis=1, inplace=True)\n",
    "    print(train.shape, test.shape)\n",
    "    \n",
    "    return train, test"
   ]
  },
  {
   "cell_type": "code",
   "execution_count": 47,
   "metadata": {},
   "outputs": [
    {
     "name": "stdout",
     "output_type": "stream",
     "text": [
      "(30379, 325) (4166, 324)\n"
     ]
    }
   ],
   "source": [
    "train, test = clean_data(train, test)"
   ]
  },
  {
   "cell_type": "markdown",
   "metadata": {},
   "source": [
    "### Split data"
   ]
  },
  {
   "cell_type": "code",
   "execution_count": 48,
   "metadata": {
    "collapsed": true
   },
   "outputs": [],
   "source": [
    "X = train.drop('0', axis=1)\n",
    "y = train['0']\n",
    "\n",
    "X_train, X_val, y_train, y_val = train_test_split(X, y,\n",
    "                                                  test_size=0.15, \n",
    "                                                  random_state=42,\n",
    "                                                  stratify=y)"
   ]
  },
  {
   "cell_type": "code",
   "execution_count": 40,
   "metadata": {
    "collapsed": true
   },
   "outputs": [],
   "source": [
    "kf = StratifiedKFold(n_splits=5, random_state=42, shuffle=True,)"
   ]
  },
  {
   "cell_type": "markdown",
   "metadata": {},
   "source": [
    "### Baseline on Logregression"
   ]
  },
  {
   "cell_type": "code",
   "execution_count": 49,
   "metadata": {},
   "outputs": [
    {
     "data": {
      "text/plain": [
       "0.7352291709911138"
      ]
     },
     "execution_count": 49,
     "metadata": {},
     "output_type": "execute_result"
    }
   ],
   "source": [
    "lr = LogisticRegression(tol=0.9, \n",
    "                        C=100, \n",
    "                        random_state=42,\n",
    "                        solver='newton-cg', \n",
    "                        class_weight='balanced')\n",
    "lr.fit(X_train,  y_train)\n",
    "roc_auc_score(y_val, lr.predict_proba(X_val)[:, 1])"
   ]
  },
  {
   "cell_type": "markdown",
   "metadata": {},
   "source": [
    "- all features: 0.7241 / cv: 0.73\n",
    "- clean data: 0.7350\n",
    "- clean data (not delete corr feature): 0.7352"
   ]
  },
  {
   "cell_type": "code",
   "execution_count": 41,
   "metadata": {},
   "outputs": [
    {
     "name": "stdout",
     "output_type": "stream",
     "text": [
      "LR scoring: 0.73\n"
     ]
    }
   ],
   "source": [
    "from os import cpu_count\n",
    "\n",
    "n_jobs = max(cpu_count()-1, 1)\n",
    "lr = LogisticRegression(\n",
    "    random_state=42\n",
    ")\n",
    "\n",
    "scores_lr = cross_val_score(\n",
    "    estimator=lr,\n",
    "    X=X,\n",
    "    y=y,\n",
    "    scoring='roc_auc',\n",
    "    cv=kf,\n",
    "    n_jobs=n_jobs\n",
    ").mean()\n",
    "print('LR scoring: {:.2f}'.format(scores_lr))"
   ]
  },
  {
   "cell_type": "markdown",
   "metadata": {},
   "source": [
    "### Baseline Random Forest"
   ]
  },
  {
   "cell_type": "code",
   "execution_count": 42,
   "metadata": {},
   "outputs": [
    {
     "name": "stdout",
     "output_type": "stream",
     "text": [
      "RF scoring: 0.73\n"
     ]
    }
   ],
   "source": [
    "rf = RandomForestClassifier(n_estimators=200, \n",
    "                            random_state=42,\n",
    "                            min_samples_leaf=7,\n",
    "                            min_samples_split=10,)\n",
    "\n",
    "scores_rf = cross_val_score(\n",
    "                estimator=rf,\n",
    "                X=X,\n",
    "                y=y,\n",
    "                scoring='roc_auc',\n",
    "                cv=kf,\n",
    "                n_jobs=n_jobs\n",
    "            ).mean()\n",
    "print('RF scoring: {:.2f}'.format(scores_rf))"
   ]
  },
  {
   "cell_type": "markdown",
   "metadata": {},
   "source": [
    "## Baseline on xgboost"
   ]
  },
  {
   "cell_type": "code",
   "execution_count": 15,
   "metadata": {
    "collapsed": true
   },
   "outputs": [],
   "source": [
    "import xgboost as xgb"
   ]
  },
  {
   "cell_type": "code",
   "execution_count": 50,
   "metadata": {
    "scrolled": true
   },
   "outputs": [
    {
     "name": "stdout",
     "output_type": "stream",
     "text": [
      "[0]\tvalidation_0-auc:0.6821\n",
      "Will train until validation_0-auc hasn't improved in 10 rounds.\n",
      "[1]\tvalidation_0-auc:0.707421\n",
      "[2]\tvalidation_0-auc:0.712759\n",
      "[3]\tvalidation_0-auc:0.713385\n",
      "[4]\tvalidation_0-auc:0.714893\n",
      "[5]\tvalidation_0-auc:0.718791\n",
      "[6]\tvalidation_0-auc:0.719455\n",
      "[7]\tvalidation_0-auc:0.721377\n",
      "[8]\tvalidation_0-auc:0.722085\n",
      "[9]\tvalidation_0-auc:0.72549\n",
      "[10]\tvalidation_0-auc:0.726738\n",
      "[11]\tvalidation_0-auc:0.726615\n",
      "[12]\tvalidation_0-auc:0.727762\n",
      "[13]\tvalidation_0-auc:0.727878\n",
      "[14]\tvalidation_0-auc:0.728045\n",
      "[15]\tvalidation_0-auc:0.730084\n",
      "[16]\tvalidation_0-auc:0.730694\n",
      "[17]\tvalidation_0-auc:0.731645\n",
      "[18]\tvalidation_0-auc:0.731925\n",
      "[19]\tvalidation_0-auc:0.732449\n",
      "[20]\tvalidation_0-auc:0.733895\n",
      "[21]\tvalidation_0-auc:0.734281\n",
      "[22]\tvalidation_0-auc:0.734199\n",
      "[23]\tvalidation_0-auc:0.734593\n",
      "[24]\tvalidation_0-auc:0.735489\n",
      "[25]\tvalidation_0-auc:0.735918\n",
      "[26]\tvalidation_0-auc:0.736933\n",
      "[27]\tvalidation_0-auc:0.737689\n",
      "[28]\tvalidation_0-auc:0.737376\n",
      "[29]\tvalidation_0-auc:0.73834\n",
      "[30]\tvalidation_0-auc:0.739182\n",
      "[31]\tvalidation_0-auc:0.739289\n",
      "[32]\tvalidation_0-auc:0.740352\n",
      "[33]\tvalidation_0-auc:0.740401\n",
      "[34]\tvalidation_0-auc:0.741304\n",
      "[35]\tvalidation_0-auc:0.741554\n",
      "[36]\tvalidation_0-auc:0.74268\n",
      "[37]\tvalidation_0-auc:0.742381\n",
      "[38]\tvalidation_0-auc:0.742312\n",
      "[39]\tvalidation_0-auc:0.742882\n",
      "[40]\tvalidation_0-auc:0.743129\n",
      "[41]\tvalidation_0-auc:0.744\n",
      "[42]\tvalidation_0-auc:0.744343\n",
      "[43]\tvalidation_0-auc:0.74519\n",
      "[44]\tvalidation_0-auc:0.745464\n",
      "[45]\tvalidation_0-auc:0.745763\n",
      "[46]\tvalidation_0-auc:0.746264\n",
      "[47]\tvalidation_0-auc:0.746591\n",
      "[48]\tvalidation_0-auc:0.74718\n",
      "[49]\tvalidation_0-auc:0.74756\n",
      "[50]\tvalidation_0-auc:0.748357\n",
      "[51]\tvalidation_0-auc:0.748134\n",
      "[52]\tvalidation_0-auc:0.748151\n",
      "[53]\tvalidation_0-auc:0.748151\n",
      "[54]\tvalidation_0-auc:0.748314\n",
      "[55]\tvalidation_0-auc:0.748682\n",
      "[56]\tvalidation_0-auc:0.748739\n",
      "[57]\tvalidation_0-auc:0.748767\n",
      "[58]\tvalidation_0-auc:0.749093\n",
      "[59]\tvalidation_0-auc:0.749314\n",
      "[60]\tvalidation_0-auc:0.75006\n",
      "[61]\tvalidation_0-auc:0.750571\n",
      "[62]\tvalidation_0-auc:0.750476\n",
      "[63]\tvalidation_0-auc:0.750364\n",
      "[64]\tvalidation_0-auc:0.750495\n",
      "[65]\tvalidation_0-auc:0.750221\n",
      "[66]\tvalidation_0-auc:0.749612\n",
      "[67]\tvalidation_0-auc:0.749772\n",
      "[68]\tvalidation_0-auc:0.750117\n",
      "[69]\tvalidation_0-auc:0.750145\n",
      "[70]\tvalidation_0-auc:0.75079\n",
      "[71]\tvalidation_0-auc:0.751324\n",
      "[72]\tvalidation_0-auc:0.751468\n",
      "[73]\tvalidation_0-auc:0.751237\n",
      "[74]\tvalidation_0-auc:0.7516\n",
      "[75]\tvalidation_0-auc:0.752056\n",
      "[76]\tvalidation_0-auc:0.752425\n",
      "[77]\tvalidation_0-auc:0.752429\n",
      "[78]\tvalidation_0-auc:0.752319\n",
      "[79]\tvalidation_0-auc:0.752064\n",
      "[80]\tvalidation_0-auc:0.751627\n",
      "[81]\tvalidation_0-auc:0.751633\n",
      "[82]\tvalidation_0-auc:0.751586\n",
      "[83]\tvalidation_0-auc:0.751848\n",
      "[84]\tvalidation_0-auc:0.751698\n",
      "[85]\tvalidation_0-auc:0.751955\n",
      "[86]\tvalidation_0-auc:0.751863\n",
      "[87]\tvalidation_0-auc:0.752134\n",
      "Stopping. Best iteration:\n",
      "[77]\tvalidation_0-auc:0.752429\n",
      "\n"
     ]
    },
    {
     "data": {
      "text/plain": [
       "XGBClassifier(base_score=0.5, booster='gbtree', colsample_bylevel=1,\n",
       "       colsample_bytree=0.7, eta=0.42, eval_metric='auc', gamma=0,\n",
       "       learning_rate=0.1, max_delta_step=0, max_depth=6,\n",
       "       min_child_weight=1, missing=None, n_estimators=100, n_jobs=1,\n",
       "       nthread=None, objective='reg:logistic', random_state=0, reg_alpha=1,\n",
       "       reg_lambda=1.2, scale_pos_weight=1, seed=42, silent=1, subsample=1)"
      ]
     },
     "execution_count": 50,
     "metadata": {},
     "output_type": "execute_result"
    }
   ],
   "source": [
    "clf = xgb.XGBClassifier(\n",
    "                   max_depth=6,\n",
    "                   objective='reg:logistic',\n",
    "                   eval_metric='auc',\n",
    "                   reg_alpha=1, \n",
    "                   reg_lambda=1.2,\n",
    "                   silent = 1,\n",
    "                   colsample_bytree=0.7,\n",
    "                   seed = 42,\n",
    "                   eta=0.42,\n",
    "                   learning_rate=0.1,\n",
    "                       )\n",
    "clf.fit(X_train, y_train, early_stopping_rounds=10, eval_metric=\"auc\",\n",
    "        eval_set=[(X_val, y_val)])"
   ]
  },
  {
   "cell_type": "markdown",
   "metadata": {},
   "source": [
    "- 0.738 - all features - baseline\n",
    "- 0.752429 - filter constant LB 0.75920944"
   ]
  },
  {
   "cell_type": "code",
   "execution_count": 59,
   "metadata": {},
   "outputs": [],
   "source": [
    "xgb_predictions = clf.predict_proba(test.drop(['_ID_', '0'], axis=1))[:, 1]\n",
    "make_file(xgb_predictions, 'xgb_tune.csv')"
   ]
  },
  {
   "cell_type": "markdown",
   "metadata": {},
   "source": [
    "### Baseline on LGBm"
   ]
  },
  {
   "cell_type": "code",
   "execution_count": null,
   "metadata": {
    "collapsed": true
   },
   "outputs": [],
   "source": [
    "import lightgbm as lgb"
   ]
  },
  {
   "cell_type": "code",
   "execution_count": 212,
   "metadata": {
    "scrolled": true
   },
   "outputs": [
    {
     "name": "stdout",
     "output_type": "stream",
     "text": [
      "[1]\tvalid_0's auc: 0.682155\n",
      "Training until validation scores don't improve for 10 rounds.\n",
      "[2]\tvalid_0's auc: 0.701388\n",
      "[3]\tvalid_0's auc: 0.70778\n",
      "[4]\tvalid_0's auc: 0.718335\n",
      "[5]\tvalid_0's auc: 0.718435\n",
      "[6]\tvalid_0's auc: 0.722409\n",
      "[7]\tvalid_0's auc: 0.721488\n",
      "[8]\tvalid_0's auc: 0.721858\n",
      "[9]\tvalid_0's auc: 0.722541\n",
      "[10]\tvalid_0's auc: 0.723266\n",
      "[11]\tvalid_0's auc: 0.722821\n",
      "[12]\tvalid_0's auc: 0.722787\n",
      "[13]\tvalid_0's auc: 0.723053\n",
      "[14]\tvalid_0's auc: 0.726115\n",
      "[15]\tvalid_0's auc: 0.727876\n",
      "[16]\tvalid_0's auc: 0.730429\n",
      "[17]\tvalid_0's auc: 0.732655\n",
      "[18]\tvalid_0's auc: 0.732903\n",
      "[19]\tvalid_0's auc: 0.731955\n",
      "[20]\tvalid_0's auc: 0.732318\n",
      "[21]\tvalid_0's auc: 0.734159\n",
      "[22]\tvalid_0's auc: 0.733696\n",
      "[23]\tvalid_0's auc: 0.734712\n",
      "[24]\tvalid_0's auc: 0.735105\n",
      "[25]\tvalid_0's auc: 0.735557\n",
      "[26]\tvalid_0's auc: 0.737223\n",
      "[27]\tvalid_0's auc: 0.738537\n",
      "[28]\tvalid_0's auc: 0.740843\n",
      "[29]\tvalid_0's auc: 0.740125\n",
      "[30]\tvalid_0's auc: 0.741273\n",
      "[31]\tvalid_0's auc: 0.740395\n",
      "[32]\tvalid_0's auc: 0.740834\n",
      "[33]\tvalid_0's auc: 0.740644\n",
      "[34]\tvalid_0's auc: 0.742197\n",
      "[35]\tvalid_0's auc: 0.742755\n",
      "[36]\tvalid_0's auc: 0.744267\n",
      "[37]\tvalid_0's auc: 0.745272\n",
      "[38]\tvalid_0's auc: 0.745113\n",
      "[39]\tvalid_0's auc: 0.744161\n",
      "[40]\tvalid_0's auc: 0.744021\n",
      "[41]\tvalid_0's auc: 0.744809\n",
      "[42]\tvalid_0's auc: 0.744804\n",
      "[43]\tvalid_0's auc: 0.744726\n",
      "[44]\tvalid_0's auc: 0.744482\n",
      "[45]\tvalid_0's auc: 0.745222\n",
      "[46]\tvalid_0's auc: 0.746587\n",
      "[47]\tvalid_0's auc: 0.747167\n",
      "[48]\tvalid_0's auc: 0.746414\n",
      "[49]\tvalid_0's auc: 0.746529\n",
      "[50]\tvalid_0's auc: 0.746723\n",
      "[51]\tvalid_0's auc: 0.747245\n",
      "[52]\tvalid_0's auc: 0.747969\n",
      "[53]\tvalid_0's auc: 0.748673\n",
      "[54]\tvalid_0's auc: 0.748311\n",
      "[55]\tvalid_0's auc: 0.748239\n",
      "[56]\tvalid_0's auc: 0.747502\n",
      "[57]\tvalid_0's auc: 0.747473\n",
      "[58]\tvalid_0's auc: 0.747937\n",
      "[59]\tvalid_0's auc: 0.747631\n",
      "[60]\tvalid_0's auc: 0.748066\n",
      "[61]\tvalid_0's auc: 0.747544\n",
      "[62]\tvalid_0's auc: 0.74671\n",
      "[63]\tvalid_0's auc: 0.74698\n",
      "Early stopping, best iteration is:\n",
      "[53]\tvalid_0's auc: 0.748673\n"
     ]
    },
    {
     "data": {
      "text/plain": [
       "LGBMClassifier(bagging_fraction=0.55, bagging_freq=6, boosting_type='gbdt',\n",
       "        class_weight=None, colsample_bytree=0.75, feature_fraction=0.55,\n",
       "        learning_rate=0.108, max_depth=-1, metric={'auc'},\n",
       "        min_child_samples=20, min_child_weight=0.001, min_data_in_leaf=6,\n",
       "        min_data_per_group=50, min_split_gain=0.0, n_estimators=100,\n",
       "        n_jobs=-1, num_leaves=45, objective=None, random_state=None,\n",
       "        reg_alpha=0.0, reg_lambda=0.0, seed=42, silent=True, subsample=0.8,\n",
       "        subsample_for_bin=200000, subsample_freq=1, task='train')"
      ]
     },
     "execution_count": 212,
     "metadata": {},
     "output_type": "execute_result"
    }
   ],
   "source": [
    "params = {\n",
    "    'task': 'train',\n",
    "    'boosting_type': 'gbdt',\n",
    "    'metric': { 'auc'},\n",
    "    'num_leaves': 45,\n",
    "    'learning_rate': 0.108,\n",
    "    'feature_fraction': 0.55,\n",
    "    'bagging_fraction': 0.55,\n",
    "    'bagging_freq': 6,\n",
    "    'seed' : 42,\n",
    "        \n",
    "    #regularization\n",
    "    'colsample_bytree': 0.75,\n",
    "    'subsample': 0.8,\n",
    "    'min_data_in_leaf': 6,\n",
    "    \n",
    "    #categorical features\n",
    "    'min_data_per_group': 50\n",
    "}\n",
    "\n",
    "lgbm_model = lgb.LGBMClassifier(**params)\n",
    "lgbm_model.fit(X_train, y_train, \n",
    "               eval_set=[(X_val, y_val)], \n",
    "               eval_metric='auc',\n",
    "               early_stopping_rounds=10)"
   ]
  },
  {
   "cell_type": "code",
   "execution_count": 208,
   "metadata": {},
   "outputs": [
    {
     "data": {
      "text/plain": [
       "0.7486730124840615"
      ]
     },
     "execution_count": 208,
     "metadata": {},
     "output_type": "execute_result"
    }
   ],
   "source": [
    "roc_auc_score(y_val, lgbm_model.predict_proba(X_val)[:, 1])"
   ]
  },
  {
   "cell_type": "code",
   "execution_count": null,
   "metadata": {
    "collapsed": true
   },
   "outputs": [],
   "source": [
    "lgbm_predictions = lgbm_model.predict_proba(X_val)[:, 1]\n",
    "make_file(lgbm_predictions, 'lgb_tune.csv')"
   ]
  },
  {
   "cell_type": "markdown",
   "metadata": {},
   "source": [
    "### Avg random seed xgb"
   ]
  },
  {
   "cell_type": "code",
   "execution_count": 269,
   "metadata": {
    "collapsed": true
   },
   "outputs": [
    {
     "name": "stdout",
     "output_type": "stream",
     "text": [
      "[0]\tvalidation_0-auc:0.683276\n",
      "Will train until validation_0-auc hasn't improved in 10 rounds.\n",
      "[1]\tvalidation_0-auc:0.711206\n",
      "[2]\tvalidation_0-auc:0.713562\n",
      "[3]\tvalidation_0-auc:0.717164\n",
      "[4]\tvalidation_0-auc:0.718853\n",
      "[5]\tvalidation_0-auc:0.721596\n",
      "[6]\tvalidation_0-auc:0.719728\n",
      "[7]\tvalidation_0-auc:0.72399\n",
      "[8]\tvalidation_0-auc:0.724494\n",
      "[9]\tvalidation_0-auc:0.725833\n",
      "[10]\tvalidation_0-auc:0.7252\n",
      "[11]\tvalidation_0-auc:0.727095\n",
      "[12]\tvalidation_0-auc:0.72827\n",
      "[13]\tvalidation_0-auc:0.728515\n",
      "[14]\tvalidation_0-auc:0.730097\n",
      "[15]\tvalidation_0-auc:0.731037\n",
      "[16]\tvalidation_0-auc:0.731909\n",
      "[17]\tvalidation_0-auc:0.732313\n",
      "[18]\tvalidation_0-auc:0.733246\n",
      "[19]\tvalidation_0-auc:0.734622\n",
      "[20]\tvalidation_0-auc:0.734724\n",
      "[21]\tvalidation_0-auc:0.73581\n",
      "[22]\tvalidation_0-auc:0.736865\n",
      "[23]\tvalidation_0-auc:0.737219\n",
      "[24]\tvalidation_0-auc:0.73726\n",
      "[25]\tvalidation_0-auc:0.738806\n",
      "[26]\tvalidation_0-auc:0.739368\n",
      "[27]\tvalidation_0-auc:0.739518\n",
      "[28]\tvalidation_0-auc:0.739562\n",
      "[29]\tvalidation_0-auc:0.739705\n",
      "[30]\tvalidation_0-auc:0.739724\n",
      "[31]\tvalidation_0-auc:0.739582\n",
      "[32]\tvalidation_0-auc:0.73965\n",
      "[33]\tvalidation_0-auc:0.739885\n",
      "[34]\tvalidation_0-auc:0.740299\n",
      "[35]\tvalidation_0-auc:0.74008\n",
      "[36]\tvalidation_0-auc:0.740217\n",
      "[37]\tvalidation_0-auc:0.740574\n",
      "[38]\tvalidation_0-auc:0.740766\n",
      "[39]\tvalidation_0-auc:0.741788\n",
      "[40]\tvalidation_0-auc:0.741745\n",
      "[41]\tvalidation_0-auc:0.740868\n",
      "[42]\tvalidation_0-auc:0.741193\n",
      "[43]\tvalidation_0-auc:0.741614\n",
      "[44]\tvalidation_0-auc:0.741817\n",
      "[45]\tvalidation_0-auc:0.741669\n",
      "[46]\tvalidation_0-auc:0.74178\n",
      "[47]\tvalidation_0-auc:0.742138\n",
      "[48]\tvalidation_0-auc:0.742292\n",
      "[49]\tvalidation_0-auc:0.742313\n",
      "[50]\tvalidation_0-auc:0.742481\n",
      "[51]\tvalidation_0-auc:0.742689\n",
      "[52]\tvalidation_0-auc:0.74275\n",
      "[53]\tvalidation_0-auc:0.74242\n",
      "[54]\tvalidation_0-auc:0.742071\n",
      "[55]\tvalidation_0-auc:0.742348\n",
      "[56]\tvalidation_0-auc:0.742569\n",
      "[57]\tvalidation_0-auc:0.742794\n",
      "[58]\tvalidation_0-auc:0.743191\n",
      "[59]\tvalidation_0-auc:0.743236\n",
      "[60]\tvalidation_0-auc:0.742867\n",
      "[61]\tvalidation_0-auc:0.743508\n",
      "[62]\tvalidation_0-auc:0.743606\n",
      "[63]\tvalidation_0-auc:0.74386\n",
      "[64]\tvalidation_0-auc:0.744199\n",
      "[65]\tvalidation_0-auc:0.744705\n",
      "[66]\tvalidation_0-auc:0.744935\n",
      "[67]\tvalidation_0-auc:0.744494\n",
      "[68]\tvalidation_0-auc:0.744703\n",
      "[69]\tvalidation_0-auc:0.744742\n",
      "[70]\tvalidation_0-auc:0.744868\n",
      "[71]\tvalidation_0-auc:0.745264\n",
      "[72]\tvalidation_0-auc:0.745588\n",
      "[73]\tvalidation_0-auc:0.74534\n",
      "[74]\tvalidation_0-auc:0.745349\n",
      "[75]\tvalidation_0-auc:0.745468\n",
      "[76]\tvalidation_0-auc:0.745203\n",
      "[77]\tvalidation_0-auc:0.745464\n",
      "[78]\tvalidation_0-auc:0.745822\n",
      "[79]\tvalidation_0-auc:0.745962\n",
      "[80]\tvalidation_0-auc:0.745465\n",
      "[81]\tvalidation_0-auc:0.745394\n",
      "[82]\tvalidation_0-auc:0.745573\n",
      "[83]\tvalidation_0-auc:0.745439\n",
      "[84]\tvalidation_0-auc:0.745433\n",
      "[85]\tvalidation_0-auc:0.745512\n",
      "[86]\tvalidation_0-auc:0.74575\n",
      "[87]\tvalidation_0-auc:0.745971\n",
      "[88]\tvalidation_0-auc:0.746153\n",
      "[89]\tvalidation_0-auc:0.746391\n",
      "[90]\tvalidation_0-auc:0.746248\n",
      "[91]\tvalidation_0-auc:0.74695\n",
      "[92]\tvalidation_0-auc:0.747189\n",
      "[93]\tvalidation_0-auc:0.747087\n",
      "[94]\tvalidation_0-auc:0.746923\n",
      "[95]\tvalidation_0-auc:0.746989\n",
      "[96]\tvalidation_0-auc:0.747219\n",
      "[97]\tvalidation_0-auc:0.746878\n",
      "[98]\tvalidation_0-auc:0.747237\n",
      "[99]\tvalidation_0-auc:0.747607\n",
      "[0]\tvalidation_0-auc:0.675215\n",
      "Will train until validation_0-auc hasn't improved in 10 rounds.\n",
      "[1]\tvalidation_0-auc:0.704278\n",
      "[2]\tvalidation_0-auc:0.710087\n",
      "[3]\tvalidation_0-auc:0.713187\n",
      "[4]\tvalidation_0-auc:0.717142\n",
      "[5]\tvalidation_0-auc:0.71874\n",
      "[6]\tvalidation_0-auc:0.721221\n",
      "[7]\tvalidation_0-auc:0.721717\n",
      "[8]\tvalidation_0-auc:0.722976\n",
      "[9]\tvalidation_0-auc:0.72493\n",
      "[10]\tvalidation_0-auc:0.728201\n",
      "[11]\tvalidation_0-auc:0.729687\n",
      "[12]\tvalidation_0-auc:0.730352\n",
      "[13]\tvalidation_0-auc:0.728988\n",
      "[14]\tvalidation_0-auc:0.731583\n",
      "[15]\tvalidation_0-auc:0.732538\n",
      "[16]\tvalidation_0-auc:0.733493\n",
      "[17]\tvalidation_0-auc:0.732909\n",
      "[18]\tvalidation_0-auc:0.73518\n",
      "[19]\tvalidation_0-auc:0.736016\n",
      "[20]\tvalidation_0-auc:0.736869\n",
      "[21]\tvalidation_0-auc:0.736186\n",
      "[22]\tvalidation_0-auc:0.736258\n",
      "[23]\tvalidation_0-auc:0.73713\n",
      "[24]\tvalidation_0-auc:0.73699\n",
      "[25]\tvalidation_0-auc:0.737325\n",
      "[26]\tvalidation_0-auc:0.739221\n",
      "[27]\tvalidation_0-auc:0.739305\n",
      "[28]\tvalidation_0-auc:0.739495\n",
      "[29]\tvalidation_0-auc:0.739169\n",
      "[30]\tvalidation_0-auc:0.739694\n",
      "[31]\tvalidation_0-auc:0.740478\n",
      "[32]\tvalidation_0-auc:0.741216\n",
      "[33]\tvalidation_0-auc:0.74126\n",
      "[34]\tvalidation_0-auc:0.7418\n",
      "[35]\tvalidation_0-auc:0.741984\n",
      "[36]\tvalidation_0-auc:0.7423\n",
      "[37]\tvalidation_0-auc:0.741874\n",
      "[38]\tvalidation_0-auc:0.742065\n",
      "[39]\tvalidation_0-auc:0.741658\n",
      "[40]\tvalidation_0-auc:0.742432\n",
      "[41]\tvalidation_0-auc:0.742763\n",
      "[42]\tvalidation_0-auc:0.743101\n",
      "[43]\tvalidation_0-auc:0.743355\n",
      "[44]\tvalidation_0-auc:0.744217\n",
      "[45]\tvalidation_0-auc:0.744358\n",
      "[46]\tvalidation_0-auc:0.744432\n",
      "[47]\tvalidation_0-auc:0.744945\n",
      "[48]\tvalidation_0-auc:0.745304\n",
      "[49]\tvalidation_0-auc:0.745603\n",
      "[50]\tvalidation_0-auc:0.745591\n",
      "[51]\tvalidation_0-auc:0.746041\n",
      "[52]\tvalidation_0-auc:0.746062\n",
      "[53]\tvalidation_0-auc:0.746281\n",
      "[54]\tvalidation_0-auc:0.746456\n",
      "[55]\tvalidation_0-auc:0.746341\n",
      "[56]\tvalidation_0-auc:0.74649\n",
      "[57]\tvalidation_0-auc:0.746627\n",
      "[58]\tvalidation_0-auc:0.74731\n",
      "[59]\tvalidation_0-auc:0.747106\n",
      "[60]\tvalidation_0-auc:0.746802\n",
      "[61]\tvalidation_0-auc:0.747139\n",
      "[62]\tvalidation_0-auc:0.746545\n",
      "[63]\tvalidation_0-auc:0.747054\n",
      "[64]\tvalidation_0-auc:0.747191\n",
      "[65]\tvalidation_0-auc:0.747573\n",
      "[66]\tvalidation_0-auc:0.748132\n",
      "[67]\tvalidation_0-auc:0.748144\n",
      "[68]\tvalidation_0-auc:0.748517\n",
      "[69]\tvalidation_0-auc:0.748942\n",
      "[70]\tvalidation_0-auc:0.748973\n",
      "[71]\tvalidation_0-auc:0.749223\n",
      "[72]\tvalidation_0-auc:0.748426\n",
      "[73]\tvalidation_0-auc:0.748489\n",
      "[74]\tvalidation_0-auc:0.748418\n",
      "[75]\tvalidation_0-auc:0.748135\n",
      "[76]\tvalidation_0-auc:0.748209\n",
      "[77]\tvalidation_0-auc:0.74821\n",
      "[78]\tvalidation_0-auc:0.748377\n",
      "[79]\tvalidation_0-auc:0.748288\n",
      "[80]\tvalidation_0-auc:0.748092\n",
      "[81]\tvalidation_0-auc:0.748263\n",
      "Stopping. Best iteration:\n",
      "[71]\tvalidation_0-auc:0.749223\n",
      "\n",
      "[0]\tvalidation_0-auc:0.6821\n",
      "Will train until validation_0-auc hasn't improved in 10 rounds.\n",
      "[1]\tvalidation_0-auc:0.707421\n",
      "[2]\tvalidation_0-auc:0.712759\n",
      "[3]\tvalidation_0-auc:0.713385\n",
      "[4]\tvalidation_0-auc:0.714893\n",
      "[5]\tvalidation_0-auc:0.718791\n",
      "[6]\tvalidation_0-auc:0.719455\n",
      "[7]\tvalidation_0-auc:0.721377\n",
      "[8]\tvalidation_0-auc:0.722085\n",
      "[9]\tvalidation_0-auc:0.72549\n",
      "[10]\tvalidation_0-auc:0.726738\n",
      "[11]\tvalidation_0-auc:0.726615\n",
      "[12]\tvalidation_0-auc:0.727762\n",
      "[13]\tvalidation_0-auc:0.727878\n",
      "[14]\tvalidation_0-auc:0.728045\n",
      "[15]\tvalidation_0-auc:0.730084\n",
      "[16]\tvalidation_0-auc:0.730694\n",
      "[17]\tvalidation_0-auc:0.731645\n",
      "[18]\tvalidation_0-auc:0.731925\n",
      "[19]\tvalidation_0-auc:0.732449\n",
      "[20]\tvalidation_0-auc:0.733895\n",
      "[21]\tvalidation_0-auc:0.734281\n",
      "[22]\tvalidation_0-auc:0.734199\n",
      "[23]\tvalidation_0-auc:0.734593\n",
      "[24]\tvalidation_0-auc:0.735489\n",
      "[25]\tvalidation_0-auc:0.735918\n",
      "[26]\tvalidation_0-auc:0.736933\n",
      "[27]\tvalidation_0-auc:0.737689\n",
      "[28]\tvalidation_0-auc:0.737376\n",
      "[29]\tvalidation_0-auc:0.73834\n",
      "[30]\tvalidation_0-auc:0.739182\n",
      "[31]\tvalidation_0-auc:0.739289\n",
      "[32]\tvalidation_0-auc:0.740352\n",
      "[33]\tvalidation_0-auc:0.740401\n",
      "[34]\tvalidation_0-auc:0.741304\n",
      "[35]\tvalidation_0-auc:0.741554\n",
      "[36]\tvalidation_0-auc:0.74268\n",
      "[37]\tvalidation_0-auc:0.742381\n",
      "[38]\tvalidation_0-auc:0.742312\n",
      "[39]\tvalidation_0-auc:0.742882\n",
      "[40]\tvalidation_0-auc:0.743129\n",
      "[41]\tvalidation_0-auc:0.744\n",
      "[42]\tvalidation_0-auc:0.744343\n",
      "[43]\tvalidation_0-auc:0.74519\n",
      "[44]\tvalidation_0-auc:0.745464\n",
      "[45]\tvalidation_0-auc:0.745763\n",
      "[46]\tvalidation_0-auc:0.746264\n",
      "[47]\tvalidation_0-auc:0.746591\n",
      "[48]\tvalidation_0-auc:0.74718\n",
      "[49]\tvalidation_0-auc:0.74756\n",
      "[50]\tvalidation_0-auc:0.748357\n",
      "[51]\tvalidation_0-auc:0.748134\n",
      "[52]\tvalidation_0-auc:0.748151\n",
      "[53]\tvalidation_0-auc:0.748151\n",
      "[54]\tvalidation_0-auc:0.748314\n",
      "[55]\tvalidation_0-auc:0.748682\n",
      "[56]\tvalidation_0-auc:0.748739\n",
      "[57]\tvalidation_0-auc:0.748767\n",
      "[58]\tvalidation_0-auc:0.749093\n",
      "[59]\tvalidation_0-auc:0.749314\n",
      "[60]\tvalidation_0-auc:0.75006\n",
      "[61]\tvalidation_0-auc:0.750571\n",
      "[62]\tvalidation_0-auc:0.750476\n",
      "[63]\tvalidation_0-auc:0.750364\n",
      "[64]\tvalidation_0-auc:0.750495\n",
      "[65]\tvalidation_0-auc:0.750221\n",
      "[66]\tvalidation_0-auc:0.749612\n",
      "[67]\tvalidation_0-auc:0.749772\n",
      "[68]\tvalidation_0-auc:0.750117\n",
      "[69]\tvalidation_0-auc:0.750145\n",
      "[70]\tvalidation_0-auc:0.75079\n",
      "[71]\tvalidation_0-auc:0.751324\n",
      "[72]\tvalidation_0-auc:0.751468\n",
      "[73]\tvalidation_0-auc:0.751237\n",
      "[74]\tvalidation_0-auc:0.7516\n",
      "[75]\tvalidation_0-auc:0.752056\n",
      "[76]\tvalidation_0-auc:0.752425\n"
     ]
    },
    {
     "name": "stdout",
     "output_type": "stream",
     "text": [
      "[77]\tvalidation_0-auc:0.752429\n",
      "[78]\tvalidation_0-auc:0.752319\n",
      "[79]\tvalidation_0-auc:0.752064\n",
      "[80]\tvalidation_0-auc:0.751627\n",
      "[81]\tvalidation_0-auc:0.751633\n",
      "[82]\tvalidation_0-auc:0.751586\n",
      "[83]\tvalidation_0-auc:0.751848\n",
      "[84]\tvalidation_0-auc:0.751698\n",
      "[85]\tvalidation_0-auc:0.751955\n",
      "[86]\tvalidation_0-auc:0.751863\n",
      "[87]\tvalidation_0-auc:0.752134\n",
      "Stopping. Best iteration:\n",
      "[77]\tvalidation_0-auc:0.752429\n",
      "\n"
     ]
    }
   ],
   "source": [
    "models={}\n",
    "seeds = [21, 177, 42]\n",
    "\n",
    "for s in seeds:\n",
    "    models[s] = xgb.XGBClassifier(\n",
    "                   max_depth=6,\n",
    "                   objective='reg:logistic',\n",
    "                   eval_metric='auc',\n",
    "                   reg_alpha=1, \n",
    "                   reg_lambda=1.2,\n",
    "                   silent = 1,\n",
    "                   colsample_bytree=0.7,\n",
    "                   seed = s,\n",
    "                   eta=0.42,\n",
    "                   learning_rate=0.1,\n",
    "                       )\n",
    "\n",
    "    models[s].fit(X_train, y_train, early_stopping_rounds=10, eval_metric=\"auc\",\n",
    "        eval_set=[(X_val, y_val)])"
   ]
  },
  {
   "cell_type": "code",
   "execution_count": 271,
   "metadata": {},
   "outputs": [
    {
     "name": "stdout",
     "output_type": "stream",
     "text": [
      "0.7476074686910021\n",
      "0.7482628077770858\n",
      "0.7521338881805033\n"
     ]
    }
   ],
   "source": [
    "predictions = []\n",
    "for s, model in models.items():\n",
    "#     predictions.append( np.array(models[s].predict_proba(X_val)[:, 1]) )\n",
    "    predictions.append( np.array(models[s].predict_proba(test)[:, 1]) )\n",
    "    print(roc_auc_score(y_val ,models[s].predict_proba(X_val)[:, 1]))"
   ]
  },
  {
   "cell_type": "code",
   "execution_count": 258,
   "metadata": {},
   "outputs": [
    {
     "data": {
      "text/plain": [
       "0.7523464038720689"
      ]
     },
     "execution_count": 258,
     "metadata": {},
     "output_type": "execute_result"
    }
   ],
   "source": [
    "result = rankdata(predictions[0]) + rankdata(predictions[1]) + rankdata(predictions[2])\n",
    "roc_auc_score(y_val , result)"
   ]
  },
  {
   "cell_type": "code",
   "execution_count": 263,
   "metadata": {},
   "outputs": [
    {
     "data": {
      "text/plain": [
       "0.7530890556066252"
      ]
     },
     "execution_count": 263,
     "metadata": {},
     "output_type": "execute_result"
    }
   ],
   "source": [
    "result = 0.15 * predictions[0] + 0.15 * predictions[1] + 0.7* predictions[2]\n",
    "roc_auc_score(y_val , result)"
   ]
  },
  {
   "cell_type": "code",
   "execution_count": 272,
   "metadata": {},
   "outputs": [],
   "source": [
    "result = 0.15 * predictions[0] + 0.15 * predictions[1] + 0.7* predictions[2]\n",
    "# LB 0.75920944; here 0.753089\n",
    "make_file(result, 'xgb_random_seed_weighted_only_train.csv')"
   ]
  },
  {
   "cell_type": "markdown",
   "metadata": {
    "collapsed": true
   },
   "source": [
    "### Try Catboost"
   ]
  },
  {
   "cell_type": "code",
   "execution_count": 281,
   "metadata": {
    "collapsed": true
   },
   "outputs": [],
   "source": [
    "from catboost import CatBoostClassifier"
   ]
  },
  {
   "cell_type": "code",
   "execution_count": 307,
   "metadata": {
    "scrolled": true
   },
   "outputs": [
    {
     "name": "stdout",
     "output_type": "stream",
     "text": [
      "0:\tlearn: 0.6734900\ttest: 0.6786745\tbest: 0.6786745 (0)\ttotal: 143ms\tremaining: 2m 23s\n",
      "1:\tlearn: 0.6858324\ttest: 0.6956322\tbest: 0.6956322 (1)\ttotal: 273ms\tremaining: 2m 16s\n",
      "2:\tlearn: 0.6937696\ttest: 0.6954884\tbest: 0.6956322 (1)\ttotal: 449ms\tremaining: 2m 29s\n",
      "3:\tlearn: 0.6999361\ttest: 0.6951894\tbest: 0.6956322 (1)\ttotal: 610ms\tremaining: 2m 31s\n",
      "4:\tlearn: 0.7060708\ttest: 0.6989865\tbest: 0.6989865 (4)\ttotal: 799ms\tremaining: 2m 38s\n",
      "5:\tlearn: 0.7120485\ttest: 0.7071163\tbest: 0.7071163 (5)\ttotal: 942ms\tremaining: 2m 35s\n",
      "6:\tlearn: 0.7186236\ttest: 0.7131402\tbest: 0.7131402 (6)\ttotal: 1.12s\tremaining: 2m 38s\n",
      "7:\tlearn: 0.7198434\ttest: 0.7133208\tbest: 0.7133208 (7)\ttotal: 1.27s\tremaining: 2m 37s\n",
      "8:\tlearn: 0.7213599\ttest: 0.7152675\tbest: 0.7152675 (8)\ttotal: 1.44s\tremaining: 2m 38s\n",
      "9:\tlearn: 0.7232405\ttest: 0.7168555\tbest: 0.7168555 (9)\ttotal: 1.59s\tremaining: 2m 37s\n",
      "10:\tlearn: 0.7255814\ttest: 0.7179182\tbest: 0.7179182 (10)\ttotal: 1.8s\tremaining: 2m 41s\n",
      "11:\tlearn: 0.7272284\ttest: 0.7197921\tbest: 0.7197921 (11)\ttotal: 1.97s\tremaining: 2m 41s\n",
      "12:\tlearn: 0.7287800\ttest: 0.7199957\tbest: 0.7199957 (12)\ttotal: 2.14s\tremaining: 2m 42s\n",
      "13:\tlearn: 0.7299684\ttest: 0.7208588\tbest: 0.7208588 (13)\ttotal: 2.28s\tremaining: 2m 40s\n",
      "14:\tlearn: 0.7319899\ttest: 0.7218415\tbest: 0.7218415 (14)\ttotal: 2.44s\tremaining: 2m 40s\n",
      "15:\tlearn: 0.7332755\ttest: 0.7231290\tbest: 0.7231290 (15)\ttotal: 2.59s\tremaining: 2m 39s\n",
      "16:\tlearn: 0.7336839\ttest: 0.7229430\tbest: 0.7231290 (15)\ttotal: 2.77s\tremaining: 2m 40s\n",
      "17:\tlearn: 0.7352962\ttest: 0.7236252\tbest: 0.7236252 (17)\ttotal: 2.96s\tremaining: 2m 41s\n",
      "18:\tlearn: 0.7359068\ttest: 0.7237515\tbest: 0.7237515 (18)\ttotal: 3.14s\tremaining: 2m 42s\n",
      "19:\tlearn: 0.7372845\ttest: 0.7255210\tbest: 0.7255210 (19)\ttotal: 3.29s\tremaining: 2m 41s\n",
      "20:\tlearn: 0.7384083\ttest: 0.7259058\tbest: 0.7259058 (20)\ttotal: 3.46s\tremaining: 2m 41s\n",
      "21:\tlearn: 0.7393606\ttest: 0.7253531\tbest: 0.7259058 (20)\ttotal: 3.6s\tremaining: 2m 40s\n",
      "22:\tlearn: 0.7409620\ttest: 0.7267790\tbest: 0.7267790 (22)\ttotal: 3.77s\tremaining: 2m 40s\n",
      "23:\tlearn: 0.7429044\ttest: 0.7282621\tbest: 0.7282621 (23)\ttotal: 3.95s\tremaining: 2m 40s\n",
      "24:\tlearn: 0.7443060\ttest: 0.7289188\tbest: 0.7289188 (24)\ttotal: 4.15s\tremaining: 2m 41s\n",
      "25:\tlearn: 0.7450855\ttest: 0.7290972\tbest: 0.7290972 (25)\ttotal: 4.32s\tremaining: 2m 41s\n",
      "26:\tlearn: 0.7460683\ttest: 0.7291789\tbest: 0.7291789 (26)\ttotal: 4.6s\tremaining: 2m 45s\n",
      "27:\tlearn: 0.7475388\ttest: 0.7296331\tbest: 0.7296331 (27)\ttotal: 4.96s\tremaining: 2m 52s\n",
      "28:\tlearn: 0.7483121\ttest: 0.7300491\tbest: 0.7300491 (28)\ttotal: 5.2s\tremaining: 2m 54s\n",
      "29:\tlearn: 0.7489803\ttest: 0.7307238\tbest: 0.7307238 (29)\ttotal: 5.42s\tremaining: 2m 55s\n",
      "30:\tlearn: 0.7500672\ttest: 0.7312787\tbest: 0.7312787 (30)\ttotal: 5.69s\tremaining: 2m 57s\n",
      "31:\tlearn: 0.7506548\ttest: 0.7313499\tbest: 0.7313499 (31)\ttotal: 5.93s\tremaining: 2m 59s\n",
      "32:\tlearn: 0.7518239\ttest: 0.7310355\tbest: 0.7313499 (31)\ttotal: 6.17s\tremaining: 3m\n",
      "33:\tlearn: 0.7532979\ttest: 0.7318703\tbest: 0.7318703 (33)\ttotal: 6.53s\tremaining: 3m 5s\n",
      "34:\tlearn: 0.7544099\ttest: 0.7310296\tbest: 0.7318703 (33)\ttotal: 6.83s\tremaining: 3m 8s\n",
      "35:\tlearn: 0.7551854\ttest: 0.7314062\tbest: 0.7318703 (33)\ttotal: 7.12s\tremaining: 3m 10s\n",
      "36:\tlearn: 0.7564266\ttest: 0.7314111\tbest: 0.7318703 (33)\ttotal: 7.33s\tremaining: 3m 10s\n",
      "37:\tlearn: 0.7573285\ttest: 0.7319933\tbest: 0.7319933 (37)\ttotal: 7.56s\tremaining: 3m 11s\n",
      "38:\tlearn: 0.7582868\ttest: 0.7326648\tbest: 0.7326648 (38)\ttotal: 7.89s\tremaining: 3m 14s\n",
      "39:\tlearn: 0.7592353\ttest: 0.7331445\tbest: 0.7331445 (39)\ttotal: 8.15s\tremaining: 3m 15s\n",
      "40:\tlearn: 0.7601313\ttest: 0.7332981\tbest: 0.7332981 (40)\ttotal: 8.4s\tremaining: 3m 16s\n",
      "41:\tlearn: 0.7610609\ttest: 0.7332859\tbest: 0.7332981 (40)\ttotal: 8.63s\tremaining: 3m 16s\n",
      "42:\tlearn: 0.7616991\ttest: 0.7330513\tbest: 0.7332981 (40)\ttotal: 8.86s\tremaining: 3m 17s\n",
      "43:\tlearn: 0.7625131\ttest: 0.7333208\tbest: 0.7333208 (43)\ttotal: 9.05s\tremaining: 3m 16s\n",
      "44:\tlearn: 0.7631921\ttest: 0.7332459\tbest: 0.7333208 (43)\ttotal: 9.25s\tremaining: 3m 16s\n",
      "45:\tlearn: 0.7637009\ttest: 0.7338132\tbest: 0.7338132 (45)\ttotal: 9.43s\tremaining: 3m 15s\n",
      "46:\tlearn: 0.7652416\ttest: 0.7340106\tbest: 0.7340106 (46)\ttotal: 9.63s\tremaining: 3m 15s\n",
      "47:\tlearn: 0.7661948\ttest: 0.7342847\tbest: 0.7342847 (47)\ttotal: 9.79s\tremaining: 3m 14s\n",
      "48:\tlearn: 0.7671146\ttest: 0.7344369\tbest: 0.7344369 (48)\ttotal: 10s\tremaining: 3m 14s\n",
      "49:\tlearn: 0.7676354\ttest: 0.7347275\tbest: 0.7347275 (49)\ttotal: 10.2s\tremaining: 3m 13s\n",
      "50:\tlearn: 0.7683577\ttest: 0.7349223\tbest: 0.7349223 (50)\ttotal: 10.5s\tremaining: 3m 14s\n",
      "51:\tlearn: 0.7689390\ttest: 0.7348104\tbest: 0.7349223 (50)\ttotal: 10.7s\tremaining: 3m 14s\n",
      "52:\tlearn: 0.7696621\ttest: 0.7350603\tbest: 0.7350603 (52)\ttotal: 11s\tremaining: 3m 17s\n",
      "53:\tlearn: 0.7700271\ttest: 0.7350794\tbest: 0.7350794 (53)\ttotal: 11.2s\tremaining: 3m 16s\n",
      "54:\tlearn: 0.7703737\ttest: 0.7351564\tbest: 0.7351564 (54)\ttotal: 11.4s\tremaining: 3m 16s\n",
      "55:\tlearn: 0.7710962\ttest: 0.7351603\tbest: 0.7351603 (55)\ttotal: 11.6s\tremaining: 3m 15s\n",
      "56:\tlearn: 0.7715625\ttest: 0.7355883\tbest: 0.7355883 (56)\ttotal: 11.8s\tremaining: 3m 14s\n",
      "57:\tlearn: 0.7718555\ttest: 0.7348559\tbest: 0.7355883 (56)\ttotal: 11.9s\tremaining: 3m 14s\n",
      "58:\tlearn: 0.7726409\ttest: 0.7348644\tbest: 0.7355883 (56)\ttotal: 12.2s\tremaining: 3m 13s\n",
      "59:\tlearn: 0.7731893\ttest: 0.7347270\tbest: 0.7355883 (56)\ttotal: 12.3s\tremaining: 3m 13s\n",
      "60:\tlearn: 0.7740660\ttest: 0.7352585\tbest: 0.7355883 (56)\ttotal: 12.6s\tremaining: 3m 14s\n",
      "61:\tlearn: 0.7746784\ttest: 0.7357379\tbest: 0.7357379 (61)\ttotal: 12.9s\tremaining: 3m 15s\n",
      "62:\tlearn: 0.7751820\ttest: 0.7364305\tbest: 0.7364305 (62)\ttotal: 13.2s\tremaining: 3m 16s\n",
      "63:\tlearn: 0.7758580\ttest: 0.7367224\tbest: 0.7367224 (63)\ttotal: 13.6s\tremaining: 3m 18s\n",
      "64:\tlearn: 0.7764502\ttest: 0.7369379\tbest: 0.7369379 (64)\ttotal: 13.8s\tremaining: 3m 18s\n",
      "65:\tlearn: 0.7771231\ttest: 0.7371909\tbest: 0.7371909 (65)\ttotal: 14s\tremaining: 3m 18s\n",
      "66:\tlearn: 0.7776869\ttest: 0.7375197\tbest: 0.7375197 (66)\ttotal: 14.4s\tremaining: 3m 20s\n",
      "67:\tlearn: 0.7780295\ttest: 0.7374515\tbest: 0.7375197 (66)\ttotal: 14.6s\tremaining: 3m 19s\n",
      "68:\tlearn: 0.7788355\ttest: 0.7376370\tbest: 0.7376370 (68)\ttotal: 14.9s\tremaining: 3m 20s\n",
      "69:\tlearn: 0.7791886\ttest: 0.7373550\tbest: 0.7376370 (68)\ttotal: 15.1s\tremaining: 3m 21s\n",
      "70:\tlearn: 0.7799684\ttest: 0.7372631\tbest: 0.7376370 (68)\ttotal: 15.5s\tremaining: 3m 22s\n",
      "71:\tlearn: 0.7802526\ttest: 0.7371616\tbest: 0.7376370 (68)\ttotal: 15.8s\tremaining: 3m 24s\n",
      "72:\tlearn: 0.7808212\ttest: 0.7369174\tbest: 0.7376370 (68)\ttotal: 16.1s\tremaining: 3m 24s\n",
      "73:\tlearn: 0.7814501\ttest: 0.7371626\tbest: 0.7376370 (68)\ttotal: 16.3s\tremaining: 3m 24s\n",
      "74:\tlearn: 0.7821175\ttest: 0.7373869\tbest: 0.7376370 (68)\ttotal: 16.6s\tremaining: 3m 25s\n",
      "75:\tlearn: 0.7830857\ttest: 0.7375787\tbest: 0.7376370 (68)\ttotal: 17s\tremaining: 3m 27s\n",
      "76:\tlearn: 0.7836830\ttest: 0.7383128\tbest: 0.7383128 (76)\ttotal: 17.4s\tremaining: 3m 29s\n",
      "77:\tlearn: 0.7841967\ttest: 0.7389039\tbest: 0.7389039 (77)\ttotal: 17.8s\tremaining: 3m 30s\n",
      "78:\tlearn: 0.7852988\ttest: 0.7392040\tbest: 0.7392040 (78)\ttotal: 18.2s\tremaining: 3m 32s\n",
      "79:\tlearn: 0.7857492\ttest: 0.7396218\tbest: 0.7396218 (79)\ttotal: 18.6s\tremaining: 3m 33s\n",
      "80:\tlearn: 0.7861082\ttest: 0.7399562\tbest: 0.7399562 (80)\ttotal: 18.9s\tremaining: 3m 35s\n",
      "81:\tlearn: 0.7866786\ttest: 0.7401029\tbest: 0.7401029 (81)\ttotal: 19.3s\tremaining: 3m 36s\n",
      "82:\tlearn: 0.7873907\ttest: 0.7398538\tbest: 0.7401029 (81)\ttotal: 19.8s\tremaining: 3m 38s\n",
      "83:\tlearn: 0.7879574\ttest: 0.7395352\tbest: 0.7401029 (81)\ttotal: 20.1s\tremaining: 3m 39s\n",
      "84:\tlearn: 0.7884758\ttest: 0.7392465\tbest: 0.7401029 (81)\ttotal: 20.4s\tremaining: 3m 40s\n",
      "85:\tlearn: 0.7890113\ttest: 0.7392077\tbest: 0.7401029 (81)\ttotal: 20.7s\tremaining: 3m 40s\n",
      "86:\tlearn: 0.7894852\ttest: 0.7392087\tbest: 0.7401029 (81)\ttotal: 21.1s\tremaining: 3m 41s\n",
      "87:\tlearn: 0.7899066\ttest: 0.7393309\tbest: 0.7401029 (81)\ttotal: 21.4s\tremaining: 3m 42s\n",
      "88:\tlearn: 0.7908246\ttest: 0.7390933\tbest: 0.7401029 (81)\ttotal: 21.8s\tremaining: 3m 43s\n",
      "89:\tlearn: 0.7914006\ttest: 0.7398515\tbest: 0.7401029 (81)\ttotal: 22.2s\tremaining: 3m 43s\n",
      "90:\tlearn: 0.7918903\ttest: 0.7395226\tbest: 0.7401029 (81)\ttotal: 22.5s\tremaining: 3m 44s\n",
      "91:\tlearn: 0.7921732\ttest: 0.7393889\tbest: 0.7401029 (81)\ttotal: 22.8s\tremaining: 3m 45s\n",
      "92:\tlearn: 0.7931231\ttest: 0.7396907\tbest: 0.7401029 (81)\ttotal: 23.1s\tremaining: 3m 45s\n"
     ]
    },
    {
     "name": "stdout",
     "output_type": "stream",
     "text": [
      "93:\tlearn: 0.7937429\ttest: 0.7396455\tbest: 0.7401029 (81)\ttotal: 23.5s\tremaining: 3m 46s\n",
      "94:\tlearn: 0.7942143\ttest: 0.7398185\tbest: 0.7401029 (81)\ttotal: 23.8s\tremaining: 3m 46s\n",
      "95:\tlearn: 0.7945491\ttest: 0.7400927\tbest: 0.7401029 (81)\ttotal: 24.1s\tremaining: 3m 47s\n",
      "96:\tlearn: 0.7950949\ttest: 0.7400508\tbest: 0.7401029 (81)\ttotal: 24.4s\tremaining: 3m 47s\n",
      "97:\tlearn: 0.7952862\ttest: 0.7402564\tbest: 0.7402564 (97)\ttotal: 24.6s\tremaining: 3m 46s\n",
      "98:\tlearn: 0.7955916\ttest: 0.7403763\tbest: 0.7403763 (98)\ttotal: 24.8s\tremaining: 3m 45s\n",
      "99:\tlearn: 0.7962241\ttest: 0.7407088\tbest: 0.7407088 (99)\ttotal: 25.1s\tremaining: 3m 45s\n",
      "100:\tlearn: 0.7965562\ttest: 0.7407803\tbest: 0.7407803 (100)\ttotal: 25.3s\tremaining: 3m 45s\n",
      "101:\tlearn: 0.7970382\ttest: 0.7407625\tbest: 0.7407803 (100)\ttotal: 25.6s\tremaining: 3m 45s\n",
      "102:\tlearn: 0.7977506\ttest: 0.7403869\tbest: 0.7407803 (100)\ttotal: 25.9s\tremaining: 3m 45s\n",
      "103:\tlearn: 0.7982688\ttest: 0.7407912\tbest: 0.7407912 (103)\ttotal: 26.1s\tremaining: 3m 44s\n",
      "104:\tlearn: 0.7990027\ttest: 0.7412821\tbest: 0.7412821 (104)\ttotal: 26.4s\tremaining: 3m 44s\n",
      "105:\tlearn: 0.7994883\ttest: 0.7419569\tbest: 0.7419569 (105)\ttotal: 26.6s\tremaining: 3m 43s\n",
      "106:\tlearn: 0.7997911\ttest: 0.7423239\tbest: 0.7423239 (106)\ttotal: 26.8s\tremaining: 3m 43s\n",
      "107:\tlearn: 0.8002309\ttest: 0.7425226\tbest: 0.7425226 (107)\ttotal: 27s\tremaining: 3m 43s\n",
      "108:\tlearn: 0.8011783\ttest: 0.7422307\tbest: 0.7425226 (107)\ttotal: 27.2s\tremaining: 3m 42s\n",
      "109:\tlearn: 0.8017696\ttest: 0.7418195\tbest: 0.7425226 (107)\ttotal: 27.4s\tremaining: 3m 41s\n",
      "110:\tlearn: 0.8022673\ttest: 0.7421084\tbest: 0.7425226 (107)\ttotal: 27.7s\tremaining: 3m 41s\n",
      "111:\tlearn: 0.8028146\ttest: 0.7418007\tbest: 0.7425226 (107)\ttotal: 27.9s\tremaining: 3m 41s\n",
      "112:\tlearn: 0.8033842\ttest: 0.7421513\tbest: 0.7425226 (107)\ttotal: 28.2s\tremaining: 3m 41s\n",
      "113:\tlearn: 0.8038258\ttest: 0.7423990\tbest: 0.7425226 (107)\ttotal: 28.5s\tremaining: 3m 41s\n",
      "114:\tlearn: 0.8042965\ttest: 0.7424000\tbest: 0.7425226 (107)\ttotal: 28.6s\tremaining: 3m 40s\n",
      "115:\tlearn: 0.8045923\ttest: 0.7426883\tbest: 0.7426883 (115)\ttotal: 28.8s\tremaining: 3m 39s\n",
      "116:\tlearn: 0.8050182\ttest: 0.7428369\tbest: 0.7428369 (116)\ttotal: 29s\tremaining: 3m 38s\n",
      "117:\tlearn: 0.8055575\ttest: 0.7427578\tbest: 0.7428369 (116)\ttotal: 29.2s\tremaining: 3m 38s\n",
      "118:\tlearn: 0.8061886\ttest: 0.7433611\tbest: 0.7433611 (118)\ttotal: 29.4s\tremaining: 3m 37s\n",
      "119:\tlearn: 0.8070940\ttest: 0.7441660\tbest: 0.7441660 (119)\ttotal: 29.6s\tremaining: 3m 37s\n",
      "120:\tlearn: 0.8076619\ttest: 0.7443166\tbest: 0.7443166 (120)\ttotal: 29.8s\tremaining: 3m 36s\n",
      "121:\tlearn: 0.8080151\ttest: 0.7440533\tbest: 0.7443166 (120)\ttotal: 30s\tremaining: 3m 35s\n",
      "122:\tlearn: 0.8084092\ttest: 0.7440412\tbest: 0.7443166 (120)\ttotal: 30.2s\tremaining: 3m 35s\n",
      "123:\tlearn: 0.8089197\ttest: 0.7449555\tbest: 0.7449555 (123)\ttotal: 30.4s\tremaining: 3m 34s\n",
      "124:\tlearn: 0.8091936\ttest: 0.7446708\tbest: 0.7449555 (123)\ttotal: 30.6s\tremaining: 3m 33s\n",
      "125:\tlearn: 0.8096152\ttest: 0.7447334\tbest: 0.7449555 (123)\ttotal: 30.8s\tremaining: 3m 33s\n",
      "126:\tlearn: 0.8104629\ttest: 0.7450566\tbest: 0.7450566 (126)\ttotal: 31s\tremaining: 3m 32s\n",
      "127:\tlearn: 0.8109783\ttest: 0.7452540\tbest: 0.7452540 (127)\ttotal: 31.1s\tremaining: 3m 32s\n",
      "128:\tlearn: 0.8112292\ttest: 0.7448965\tbest: 0.7452540 (127)\ttotal: 31.3s\tremaining: 3m 31s\n",
      "129:\tlearn: 0.8116864\ttest: 0.7448998\tbest: 0.7452540 (127)\ttotal: 31.5s\tremaining: 3m 30s\n",
      "130:\tlearn: 0.8119445\ttest: 0.7451172\tbest: 0.7452540 (127)\ttotal: 31.7s\tremaining: 3m 30s\n",
      "131:\tlearn: 0.8125777\ttest: 0.7452553\tbest: 0.7452553 (131)\ttotal: 31.9s\tremaining: 3m 29s\n",
      "132:\tlearn: 0.8131005\ttest: 0.7449107\tbest: 0.7452553 (131)\ttotal: 32.1s\tremaining: 3m 29s\n",
      "133:\tlearn: 0.8136569\ttest: 0.7448833\tbest: 0.7452553 (131)\ttotal: 32.2s\tremaining: 3m 28s\n",
      "134:\tlearn: 0.8140695\ttest: 0.7448257\tbest: 0.7452553 (131)\ttotal: 32.5s\tremaining: 3m 28s\n",
      "135:\tlearn: 0.8145185\ttest: 0.7450685\tbest: 0.7452553 (131)\ttotal: 32.7s\tremaining: 3m 27s\n",
      "136:\tlearn: 0.8150424\ttest: 0.7451489\tbest: 0.7452553 (131)\ttotal: 32.9s\tremaining: 3m 27s\n",
      "137:\tlearn: 0.8154750\ttest: 0.7451387\tbest: 0.7452553 (131)\ttotal: 33.2s\tremaining: 3m 27s\n",
      "138:\tlearn: 0.8159025\ttest: 0.7448886\tbest: 0.7452553 (131)\ttotal: 33.4s\tremaining: 3m 26s\n",
      "139:\tlearn: 0.8164623\ttest: 0.7450263\tbest: 0.7452553 (131)\ttotal: 33.6s\tremaining: 3m 26s\n",
      "140:\tlearn: 0.8167885\ttest: 0.7450451\tbest: 0.7452553 (131)\ttotal: 33.9s\tremaining: 3m 26s\n",
      "141:\tlearn: 0.8173357\ttest: 0.7449558\tbest: 0.7452553 (131)\ttotal: 34.1s\tremaining: 3m 25s\n",
      "142:\tlearn: 0.8174303\ttest: 0.7449644\tbest: 0.7452553 (131)\ttotal: 34.3s\tremaining: 3m 25s\n",
      "143:\tlearn: 0.8176886\ttest: 0.7448682\tbest: 0.7452553 (131)\ttotal: 34.6s\tremaining: 3m 25s\n",
      "144:\tlearn: 0.8183281\ttest: 0.7451364\tbest: 0.7452553 (131)\ttotal: 34.8s\tremaining: 3m 25s\n",
      "145:\tlearn: 0.8189779\ttest: 0.7450339\tbest: 0.7452553 (131)\ttotal: 35s\tremaining: 3m 24s\n",
      "146:\tlearn: 0.8193023\ttest: 0.7449624\tbest: 0.7452553 (131)\ttotal: 35.3s\tremaining: 3m 24s\n",
      "147:\tlearn: 0.8198377\ttest: 0.7449532\tbest: 0.7452553 (131)\ttotal: 35.5s\tremaining: 3m 24s\n",
      "148:\tlearn: 0.8202922\ttest: 0.7448780\tbest: 0.7452553 (131)\ttotal: 35.7s\tremaining: 3m 23s\n",
      "149:\tlearn: 0.8209692\ttest: 0.7447173\tbest: 0.7452553 (131)\ttotal: 35.9s\tremaining: 3m 23s\n",
      "150:\tlearn: 0.8217161\ttest: 0.7445479\tbest: 0.7452553 (131)\ttotal: 36.2s\tremaining: 3m 23s\n",
      "151:\tlearn: 0.8223007\ttest: 0.7451360\tbest: 0.7452553 (131)\ttotal: 36.4s\tremaining: 3m 22s\n",
      "152:\tlearn: 0.8226945\ttest: 0.7446316\tbest: 0.7452553 (131)\ttotal: 36.5s\tremaining: 3m 22s\n",
      "Stopped by overfitting detector  (20 iterations wait)\n",
      "\n",
      "bestTest = 0.7452552989\n",
      "bestIteration = 131\n",
      "\n"
     ]
    },
    {
     "data": {
      "text/plain": [
       "<catboost.core.CatBoostClassifier at 0x7fa1367e6390>"
      ]
     },
     "execution_count": 307,
     "metadata": {},
     "output_type": "execute_result"
    }
   ],
   "source": [
    "model = CatBoostClassifier(iterations=1000, \n",
    "                           learning_rate=0.2,\n",
    "                           eval_metric='AUC',\n",
    "                           use_best_model=False,\n",
    "                           random_seed =42,\n",
    "                           depth=5,\n",
    "                           od_type='Iter',\n",
    "                           boosting_type='Plain',\n",
    "                           reg_lambda=1.2,\n",
    "                           rsm=0.9,\n",
    "                           loss_function='Logloss',\n",
    "                          )\n",
    "\n",
    "model.fit(X_train, y_train, \n",
    "          eval_set=(X_val, y_val),)"
   ]
  },
  {
   "cell_type": "markdown",
   "metadata": {},
   "source": [
    "### Try ExtraTreesClassifier"
   ]
  },
  {
   "cell_type": "code",
   "execution_count": 217,
   "metadata": {},
   "outputs": [
    {
     "data": {
      "text/plain": [
       "0.7455574336012021"
      ]
     },
     "execution_count": 217,
     "metadata": {},
     "output_type": "execute_result"
    }
   ],
   "source": [
    "from sklearn.ensemble import ExtraTreesClassifier\n",
    "\n",
    "forest = ExtraTreesClassifier(n_estimators=200,\n",
    "                              random_state=42,\n",
    "                              max_depth=20,\n",
    "                              min_samples_leaf=3,\n",
    "                              max_features= 0.6, #'sqrt',\n",
    "                              n_jobs=3\n",
    "                             )\n",
    "\n",
    "forest.fit(X_train,  y_train)\n",
    "roc_auc_score(y_val, forest.predict_proba(X_val)[:, 1])"
   ]
  },
  {
   "cell_type": "markdown",
   "metadata": {
    "collapsed": true
   },
   "source": [
    "### Simple ensemble"
   ]
  },
  {
   "cell_type": "code",
   "execution_count": 308,
   "metadata": {
    "collapsed": true
   },
   "outputs": [],
   "source": [
    "et_val_pr = forest.predict_proba(X_val)[:,1]\n",
    "lgbm_val_pr = lgbm_model.predict_proba(X_val)[:, 1]\n",
    "cat_val_pr = model.predict_proba(X_val)[:, 1]\n",
    "xgb_val_pr = clf.predict_proba(X_val)[:, 1]"
   ]
  },
  {
   "cell_type": "markdown",
   "metadata": {},
   "source": [
    "### Rank avarage"
   ]
  },
  {
   "cell_type": "code",
   "execution_count": 309,
   "metadata": {},
   "outputs": [
    {
     "data": {
      "text/plain": [
       "0.7608826155574666"
      ]
     },
     "execution_count": 309,
     "metadata": {},
     "output_type": "execute_result"
    }
   ],
   "source": [
    "res = rankdata(et_val_pr) + rankdata(lgbm_val_pr) +  rankdata(cat_val_pr) + rankdata(xgb_val_pr)\n",
    "roc_auc_score(y_val, res)"
   ]
  },
  {
   "cell_type": "markdown",
   "metadata": {},
   "source": [
    "### Weighted mean"
   ]
  },
  {
   "cell_type": "code",
   "execution_count": 312,
   "metadata": {},
   "outputs": [
    {
     "data": {
      "text/plain": [
       "0.7593900634911223"
      ]
     },
     "execution_count": 312,
     "metadata": {},
     "output_type": "execute_result"
    }
   ],
   "source": [
    "weighted_mean_predictions = 0.1 * et_val_pr + 0.3 * lgbm_val_pr + 0.3 * xgb_val_pr + 0.3 * cat_val_pr\n",
    "roc_auc_score(y_val, weighted_mean_predictions)"
   ]
  },
  {
   "cell_type": "code",
   "execution_count": 487,
   "metadata": {
    "scrolled": true
   },
   "outputs": [
    {
     "name": "stdout",
     "output_type": "stream",
     "text": [
      "0.7613890289186083\n"
     ]
    }
   ],
   "source": [
    "pred_mean = []\n",
    "\n",
    "for et, lg, c, xg in zip(et_val_pr, lgbm_val_pr, cat_val_pr, xgb_val_pr):\n",
    "    pred_mean.append(np.mean( [et, lg, c, xg]) )\n",
    "\n",
    "print(roc_auc_score(y_val, pred_mean))"
   ]
  },
  {
   "cell_type": "markdown",
   "metadata": {
    "collapsed": true
   },
   "source": [
    "### Test weighted mean"
   ]
  },
  {
   "cell_type": "code",
   "execution_count": 463,
   "metadata": {
    "collapsed": true
   },
   "outputs": [],
   "source": [
    "et_test_pr = forest.predict_proba(test)[:,1]\n",
    "lgbm_test_pr = lgbm_model.predict_proba(test)[:, 1]\n",
    "cat_test_pr = model.predict_proba(test)[:, 1]\n",
    "xgb_test_pr = clf.predict_proba(test)[:, 1]\n",
    "\n",
    "pred_geom_test = []\n",
    "for et, lg, c, xg in zip(et_test_pr, lgbm_test_pr, cat_test_pr, xgb_test_pr):\n",
    "    pred_geom_test.append(np.sqrt( et*lg*c*xg) )\n",
    "    \n",
    "make_file(pred_geom_test, 'pred_geom.csv')"
   ]
  },
  {
   "cell_type": "markdown",
   "metadata": {},
   "source": [
    "### Try stack"
   ]
  },
  {
   "cell_type": "code",
   "execution_count": 481,
   "metadata": {
    "scrolled": true
   },
   "outputs": [],
   "source": [
    "X_train_stacked = X_train.copy()\n",
    "X_val_stacked = X_val.copy()\n",
    "X_test_stacked = test.copy()\n",
    "\n",
    "\n",
    "X_train_stacked[\"xgb\"] = clf.predict_proba(X_train)[:,1]\n",
    "X_train_stacked[\"cat\"] = model.predict_proba(X_train)[:,1]\n",
    "X_train_stacked[\"lgbm\"] = lgbm_model.predict_proba(X_train)[:,1]\n",
    "X_train_stacked[\"et\"] = forest.predict_proba(X_train)[:,1]\n",
    "\n",
    "X_val_stacked[\"xgb\"]  = xgb_val_pr\n",
    "X_val_stacked[\"cat\"]  = cat_val_pr\n",
    "X_val_stacked[\"lgbm\"] = lgbm_val_pr\n",
    "X_val_stacked[\"et\"]   = et_val_pr\n",
    "\n",
    "X_test_stacked[\"xgb\"] = xgb_test_pr\n",
    "X_test_stacked[\"cat\"] = cat_test_pr\n",
    "X_test_stacked[\"lgbm\"] = lgbm_test_pr\n",
    "X_test_stacked[\"et\"] = et_test_pr"
   ]
  },
  {
   "cell_type": "code",
   "execution_count": 483,
   "metadata": {},
   "outputs": [
    {
     "data": {
      "text/plain": [
       "<matplotlib.axes._subplots.AxesSubplot at 0x7fa153a22dd8>"
      ]
     },
     "execution_count": 483,
     "metadata": {},
     "output_type": "execute_result"
    },
    {
     "data": {
      "image/png": "[encoded data removed]",
      "text/plain": [
       "<matplotlib.figure.Figure at 0x7fa1539d8f98>"
      ]
     },
     "metadata": {},
     "output_type": "display_data"
    }
   ],
   "source": [
    "preds = X_train_stacked[['xgb', 'cat', 'lgbm', 'et']]\n",
    "sns.heatmap(preds.corr(), annot=True, fmt='.2f', center = True)"
   ]
  },
  {
   "cell_type": "code",
   "execution_count": 475,
   "metadata": {},
   "outputs": [
    {
     "data": {
      "text/plain": [
       "0.7610793161277993"
      ]
     },
     "execution_count": 475,
     "metadata": {},
     "output_type": "execute_result"
    }
   ],
   "source": [
    "et_stack = ExtraTreesClassifier(n_estimators=200, \n",
    "                          random_state=42,\n",
    "                          max_depth=14, \n",
    "                          min_samples_leaf=3,\n",
    "                          max_features= 'sqrt',\n",
    "                          n_jobs=-1,  \n",
    "                          min_samples_split=2,\n",
    "                        )\n",
    "\n",
    "et_stack.fit(X_train_stacked, y_train)\n",
    "roc_auc_score(y_val, et_stack.predict_proba(X_val_stacked)[:, 1])"
   ]
  },
  {
   "cell_type": "code",
   "execution_count": 477,
   "metadata": {
    "collapsed": true
   },
   "outputs": [],
   "source": [
    "et_stack_pred = et_stack.predict_proba(X_test_stacked)[:, 1]\n",
    "make_file(et_stack_pred, 'et_stack_pred.csv')"
   ]
  }
 ],
 "metadata": {
  "kernelspec": {
   "display_name": "Python 3",
   "language": "python",
   "name": "python3"
  },
  "language_info": {
   "codemirror_mode": {
    "name": "ipython",
    "version": 3
   },
   "file_extension": ".py",
   "mimetype": "text/x-python",
   "name": "python",
   "nbconvert_exporter": "python",
   "pygments_lexer": "ipython3",
   "version": "3.6.3"
  }
 },
 "nbformat": 4,
 "nbformat_minor": 2
}
