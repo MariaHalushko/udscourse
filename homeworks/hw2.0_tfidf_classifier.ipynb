{
 "worksheets": [
  {
   "cells": [
    {
     "cell_type": "markdown",
     "metadata": {},
     "source": [
      "# Homework 2 - TF-IDF Classifier\n",
      "\n",
      "Ваша цель обучить классификатор который будет находить \"токсичные\" комментарии и опубликовать решения на Kaggle [Toxic Comment Classification Challenge](https://www.kaggle.com/c/jigsaw-toxic-comment-classification-challenge)\n",
      "\n",
      "В процессе обучения нужно ответить на ***[вопросы](https://docs.google.com/forms/d/e/1FAIpQLSd9mQx8EFpSH6FhCy1M_FmISzy3lhgyyqV3TN0pmtop7slmTA/viewform?usp=sf_link)***\n",
      "\n",
      "Данные можно скачать тут - https://www.kaggle.com/c/jigsaw-toxic-comment-classification-challenge/data\n",
      "\n"
     ]
    },
    {
     "cell_type": "code",
     "execution_count": null,
     "metadata": {},
     "outputs": [],
     "input": [
      "import numpy as np\n",
      "import pandas as pd\n",
      "from sklearn.feature_extraction.text import TfidfVectorizer, CountVectorizer, HashingVectorizer\n",
      "from sklearn.linear_model import LogisticRegression\n",
      "from sklearn.model_selection import cross_val_score\n",
      "\n",
      "%load_ext autoreload\n",
      "%autoreload 2\n",
      "\n",
      "pd.options.display.width = -1\n",
      "pd.options.display.height = 500"
     ],
     "language": "python",
     "prompt_number": 2
    },
    {
     "cell_type": "code",
     "execution_count": null,
     "metadata": {},
     "outputs": [],
     "input": [
      "class_names = ['toxic', 'severe_toxic', 'obscene', 'threat', 'insult', 'identity_hate']\n",
      "\n",
      "train = pd.read_csv('../data/toxic_comments/train.csv').fillna(' ')\n",
      "test = pd.read_csv('../data/toxic_comments/test.csv').fillna(' ')"
     ],
     "language": "python",
     "prompt_number": 2
    },
    {
     "cell_type": "markdown",
     "metadata": {},
     "source": [
      "Стадартными подходами для анализа текста являются [Bag of words](https://en.wikipedia.org/wiki/Bag-of-words_model) и его модификация [TF-IDF](https://en.wikipedia.org/wiki/Tf%E2%80%93idf).\n",
      "\n",
      "Они реалзованны в `sklearn` в виде [CountVectorizer](http://scikit-learn.org/stable/modules/generated/sklearn.feature_extraction.text.CountVectorizer.html) и [TfidfVectorizer](http://scikit-learn.org/stable/modules/generated/sklearn.feature_extraction.text.TfidfVectorizer.html).\n",
      "\n",
      "Более подробней про них можно посмотреть [тут](https://github.com/udsclub/workshop/blob/master/notebooks/UDS-workshop-feature-extraction-and-engineering.ipynb)"
     ]
    },
    {
     "cell_type": "code",
     "execution_count": null,
     "metadata": {},
     "outputs": [
      {
       "prompt_number": 3,
       "metadata": {},
       "output_type": "pyout",
       "text": [
        "(312735,)"
       ]
      }
     ],
     "input": [
      "train_text = train['comment_text']\n",
      "test_text = test['comment_text']\n",
      "all_text = pd.concat([train_text, test_text])\n",
      "all_text.shape"
     ],
     "language": "python",
     "prompt_number": 3
    },
    {
     "cell_type": "markdown",
     "metadata": {},
     "source": [
      "### Most common word in train and test data sets"
     ]
    },
    {
     "cell_type": "code",
     "execution_count": null,
     "metadata": {},
     "outputs": [
      {
       "prompt_number": 75,
       "metadata": {},
       "output_type": "pyout",
       "text": [
        "'the'"
       ]
      }
     ],
     "input": [
      "word_vect = TfidfVectorizer( binary= True )\n",
      "words = word_vect.fit_transform(all_text)\n",
      "word_vect.get_feature_names()[words.sum(axis =0 ).argmax()]"
     ],
     "language": "python",
     "prompt_number": 75
    },
    {
     "cell_type": "code",
     "execution_count": null,
     "metadata": {},
     "outputs": [],
     "input": [
      ""
     ],
     "language": "python"
    },
    {
     "cell_type": "markdown",
     "metadata": {},
     "source": [
      ""
     ]
    },
    {
     "cell_type": "code",
     "execution_count": null,
     "metadata": {},
     "outputs": [],
     "input": [
      "word_vectorizer = TfidfVectorizer(ngram_range=(1,5), max_features=65000, min_df=3, norm='l2', smooth_idf=False, sublinear_tf=True)"
     ],
     "language": "python",
     "prompt_number": 43
    },
    {
     "cell_type": "code",
     "execution_count": null,
     "metadata": {},
     "outputs": [],
     "input": [
      "word_vectorizer.fit(all_text)\n",
      "train_word_features = word_vectorizer.transform(train_text)\n",
      "test_word_features = word_vectorizer.transform(test_text)"
     ],
     "language": "python"
    },
    {
     "cell_type": "markdown",
     "metadata": {},
     "source": [
      "Для классификации будем использовать логистическую регрессию [LogisticRegression](http://scikit-learn.org/stable/modules/generated/sklearn.linear_model.LogisticRegression.html)."
     ]
    },
    {
     "cell_type": "code",
     "execution_count": null,
     "metadata": {},
     "outputs": [],
     "input": [
      "classifier = LogisticRegression(C=1.9, penalty = 'l2', solver='lbfgs', n_jobs=-1)"
     ],
     "language": "python"
    },
    {
     "cell_type": "markdown",
     "metadata": {},
     "source": [
      "Будем тренировать по одному классификатору на каждый класс. \n",
      "\n",
      "Что бы провалидировать качество модели воспользуемся функцией [cross_val_score](http://scikit-learn.org/stable/modules/generated/sklearn.model_selection.cross_val_score.html)"
     ]
    },
    {
     "cell_type": "code",
     "execution_count": null,
     "metadata": {},
     "outputs": [],
     "input": [
      "scores= []\n",
      "\n",
      "for class_name in class_names:\n",
      "    train_target = train[class_name]\n",
      "\n",
      "    cv_score = np.mean(cross_val_score(classifier, train_word_features, train_target, scoring='roc_auc'))\n",
      "    \n",
      "    print('CV score for class {} is {}'.format(class_name, cv_score))\n",
      "    scores.append(cv_score)\n",
      "\n",
      "print('Total score is {}'.format(np.mean(scores)))"
     ],
     "language": "python"
    },
    {
     "cell_type": "markdown",
     "metadata": {},
     "source": [
      "Попробуйте подобрать лучшие параметры для `word_vectorizer` и `classifier` оптимизируя метрику [ROC AUC](https://en.wikipedia.org/wiki/Receiver_operating_characteristic)\n"
     ]
    },
    {
     "cell_type": "markdown",
     "metadata": {},
     "source": [
      "---"
     ]
    },
    {
     "cell_type": "markdown",
     "metadata": {},
     "source": [
      "Опубликуйте лучшие решение на [Kaggle Toxic Comment Classification Challenge](https://www.kaggle.com/c/jigsaw-toxic-comment-classification-challenge/submit)"
     ]
    },
    {
     "cell_type": "code",
     "execution_count": null,
     "metadata": {},
     "outputs": [],
     "input": [
      "submission = pd.DataFrame.from_dict({'id': test['id']})"
     ],
     "language": "python",
     "prompt_number": 21
    },
    {
     "cell_type": "code",
     "execution_count": null,
     "metadata": {},
     "outputs": [],
     "input": [
      "for class_name in class_names:\n",
      "    classifier.fit(train_word_features , train[class_name])\n",
      "    submission[class_name] = classifier.predict_proba(test_word_features)[:, 1]"
     ],
     "language": "python",
     "prompt_number": 23
    },
    {
     "cell_type": "code",
     "execution_count": null,
     "metadata": {},
     "outputs": [],
     "input": [
      "submission.to_csv('submission.csv', index=False)"
     ],
     "language": "python",
     "prompt_number": 25
    }
   ]
  }
 ],
 "cells": [],
 "metadata": {
  "kernelspec": {
   "display_name": "Python [conda root]",
   "language": "python",
   "name": "conda-root-py"
  },
  "language_info": {
   "codemirror_mode": {
    "name": "ipython",
    "version": 3.0
   },
   "file_extension": ".py",
   "mimetype": "text/x-python",
   "name": "python",
   "nbconvert_exporter": "python",
   "pygments_lexer": "ipython3",
   "version": "3.5.2"
  },
  "name": "",
  "signature": "sha256:58e61acd34cd98f2a85f8035383b169f48ed7d6e77967257bf624b8d0fe963ab"
 },
 "nbformat": 4,
 "nbformat_minor": 0
}